{
 "cells": [
  {
   "cell_type": "code",
   "execution_count": 25,
   "metadata": {},
   "outputs": [
    {
     "name": "stdout",
     "output_type": "stream",
     "text": [
      "receive data from server: !!!\n"
     ]
    }
   ],
   "source": [
    "# ip = socket.gethostname()\n",
    "\n",
    "import socket\n",
    "\n",
    "ip = \"localhost\"\n",
    "port = 8848\n",
    "ipaddress = (ip, port)\n",
    "sk = socket.socket()\n",
    "sk.connect(ipaddress)\n",
    "sk.sendall(b\"Hello\")\n",
    "data = sk.recv(1024)\n",
    "print(f\"receive data from server: {data.decode()}\")\n",
    "\n"
   ]
  },
  {
   "cell_type": "code",
   "execution_count": null,
   "metadata": {},
   "outputs": [],
   "source": []
  },
  {
   "cell_type": "code",
   "execution_count": 26,
   "metadata": {},
   "outputs": [
    {
     "name": "stdout",
     "output_type": "stream",
     "text": [
      "receive data from server: !!!\n"
     ]
    }
   ],
   "source": [
    "send_data = \"_\".join([str(_) for _ in range(10050)])\n",
    "\n",
    "sk.send(send_data.encode('utf-8'))\n",
    "data = sk.recv(1024)\n",
    "print(f\"receive data from server: {data.decode()}\")"
   ]
  },
  {
   "cell_type": "code",
   "execution_count": null,
   "metadata": {},
   "outputs": [],
   "source": []
  },
  {
   "cell_type": "code",
   "execution_count": 27,
   "metadata": {},
   "outputs": [],
   "source": [
    "sk.close()"
   ]
  }
 ],
 "metadata": {
  "kernelspec": {
   "display_name": ".venv",
   "language": "python",
   "name": "python3"
  },
  "language_info": {
   "codemirror_mode": {
    "name": "ipython",
    "version": 3
   },
   "file_extension": ".py",
   "mimetype": "text/x-python",
   "name": "python",
   "nbconvert_exporter": "python",
   "pygments_lexer": "ipython3",
   "version": "3.10.10"
  }
 },
 "nbformat": 4,
 "nbformat_minor": 2
}
