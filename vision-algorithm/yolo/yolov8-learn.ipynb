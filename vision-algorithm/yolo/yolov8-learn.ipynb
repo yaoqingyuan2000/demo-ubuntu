{
 "cells": [
  {
   "cell_type": "code",
   "execution_count": 1,
   "metadata": {},
   "outputs": [],
   "source": [
    "import math\n",
    "import numpy as np \n",
    "import cv2 as cv"
   ]
  },
  {
   "cell_type": "code",
   "execution_count": 2,
   "metadata": {},
   "outputs": [],
   "source": [
    "\n",
    "import torch\n",
    "import torch.nn as nn"
   ]
  },
  {
   "cell_type": "code",
   "execution_count": null,
   "metadata": {},
   "outputs": [],
   "source": [
    "torch.cuda.is_available()"
   ]
  },
  {
   "cell_type": "code",
   "execution_count": null,
   "metadata": {},
   "outputs": [],
   "source": [
    "gt_mask = torch.ones((2, 4))\n",
    "gt_mask[0, 3] = 0\n",
    "gt_mask = gt_mask.unsqueeze(-1)\n",
    "gt_mask = gt_mask.expand(-1, -1, 8).bool()\n",
    "print(gt_mask)"
   ]
  },
  {
   "cell_type": "code",
   "execution_count": null,
   "metadata": {},
   "outputs": [],
   "source": [
    "align_metric=torch.tensor([[[10,1,2,1,1,1,1,10],\n",
    "                            [3,4,5,1,1,1,1,1],\n",
    "                            [7,8,9,1,1,1,1,1],\n",
    "                            [1,4,7,1,1,1,1,1]],\n",
    "\n",
    "                            [[10,1,2,1,1,1,1,10],\n",
    "                            [0,4,5,1,1,1,1,1],\n",
    "                            [7,0,0,1,1,9,1,1],\n",
    "                            [1,4,7,1,1,1,1,1]]],dtype=torch.float32)\n",
    "\n",
    "topk = torch.topk(align_metric, k=3, dim=-1, largest=True)\n",
    "print(align_metric)\n",
    "print(topk[0])\n",
    "print(topk[1])"
   ]
  },
  {
   "cell_type": "code",
   "execution_count": null,
   "metadata": {},
   "outputs": [],
   "source": [
    "topk_mask = torch.ones((2, 4, 1))\n",
    "topk_mask[0, 3] = 0\n",
    "topk_mask = topk_mask.expand(-1, -1, 3).bool()\n",
    "print(topk_mask)\n",
    "\n",
    "topk_idxs = topk[1]\n",
    "topk_idxs.masked_fill_(~topk_mask, 0)\n",
    "print(topk_idxs)\n",
    "\n"
   ]
  },
  {
   "cell_type": "code",
   "execution_count": null,
   "metadata": {},
   "outputs": [],
   "source": [
    "count_tensor = torch.zeros(align_metric.shape, dtype=torch.int8, device=topk_idxs.device)\n",
    "ones = torch.ones_like(topk_idxs[:, :, :1], dtype=torch.int8, device=topk_idxs.device)\n",
    "for k in range(3):\n",
    "    count_tensor.scatter_add_(-1, topk_idxs[:, :, k:k + 1], ones)\n",
    "count_tensor.masked_fill_(count_tensor > 1, 0)\n",
    "print(count_tensor)"
   ]
  },
  {
   "cell_type": "code",
   "execution_count": null,
   "metadata": {},
   "outputs": [],
   "source": [
    "mask_pos = gt_mask * count_tensor\n",
    "mask_pos"
   ]
  },
  {
   "cell_type": "code",
   "execution_count": null,
   "metadata": {},
   "outputs": [],
   "source": [
    "fg_mask = mask_pos.sum(-2)\n",
    "fg_mask"
   ]
  },
  {
   "cell_type": "code",
   "execution_count": null,
   "metadata": {},
   "outputs": [],
   "source": [
    "mask_multi_gts = (fg_mask.unsqueeze(1) > 1).expand(-1, 4, -1)\n",
    "mask_multi_gts"
   ]
  },
  {
   "cell_type": "code",
   "execution_count": null,
   "metadata": {},
   "outputs": [],
   "source": [
    "overlaps = torch.rand((2, 4, 8))\n",
    "overlaps"
   ]
  },
  {
   "cell_type": "code",
   "execution_count": null,
   "metadata": {},
   "outputs": [],
   "source": [
    "max_overlaps_idx = overlaps.argmax(1)  # (b, h*w)\n",
    "max_overlaps_idx"
   ]
  },
  {
   "cell_type": "code",
   "execution_count": null,
   "metadata": {},
   "outputs": [],
   "source": [
    "is_max_overlaps = torch.zeros(mask_pos.shape, dtype=mask_pos.dtype, device=mask_pos.device)\n",
    "is_max_overlaps"
   ]
  },
  {
   "cell_type": "code",
   "execution_count": null,
   "metadata": {},
   "outputs": [],
   "source": [
    "max_overlaps_idx.unsqueeze(1)"
   ]
  },
  {
   "cell_type": "code",
   "execution_count": null,
   "metadata": {},
   "outputs": [],
   "source": [
    "is_max_overlaps.scatter_(1, max_overlaps_idx.unsqueeze(1), 1)"
   ]
  },
  {
   "cell_type": "code",
   "execution_count": null,
   "metadata": {},
   "outputs": [],
   "source": [
    "mask_multi_gts"
   ]
  },
  {
   "cell_type": "code",
   "execution_count": null,
   "metadata": {},
   "outputs": [],
   "source": [
    "mask_pos"
   ]
  },
  {
   "cell_type": "code",
   "execution_count": null,
   "metadata": {},
   "outputs": [],
   "source": [
    "mask_pos = torch.where(mask_multi_gts, is_max_overlaps, mask_pos).float()\n",
    "mask_pos"
   ]
  },
  {
   "cell_type": "code",
   "execution_count": null,
   "metadata": {},
   "outputs": [],
   "source": [
    "fg_mask = mask_pos.sum(-2)\n",
    "fg_mask"
   ]
  },
  {
   "cell_type": "code",
   "execution_count": null,
   "metadata": {},
   "outputs": [],
   "source": [
    "target_gt_idx = mask_pos.argmax(-2)\n",
    "target_gt_idx"
   ]
  },
  {
   "cell_type": "code",
   "execution_count": null,
   "metadata": {},
   "outputs": [],
   "source": [
    "gt_labels = torch.randint(0, 16, (2, 4, 1))\n",
    "gt_labels[0, 3, 0] = 0\n",
    "gt_labels"
   ]
  },
  {
   "cell_type": "code",
   "execution_count": null,
   "metadata": {},
   "outputs": [],
   "source": [
    "# Assigned target labels, (b, 1)\n",
    "batch_ind = torch.arange(end=2, dtype=torch.int64, device=gt_labels.device)[..., None]\n",
    "batch_ind"
   ]
  },
  {
   "cell_type": "code",
   "execution_count": null,
   "metadata": {},
   "outputs": [],
   "source": [
    "target_gt_idx = target_gt_idx + batch_ind * 4\n",
    "target_gt_idx"
   ]
  },
  {
   "cell_type": "code",
   "execution_count": null,
   "metadata": {},
   "outputs": [],
   "source": [
    "gt_labels.long().flatten()"
   ]
  },
  {
   "cell_type": "code",
   "execution_count": null,
   "metadata": {},
   "outputs": [],
   "source": [
    "target_labels = gt_labels.long().flatten()[target_gt_idx]\n",
    "target_labels"
   ]
  },
  {
   "cell_type": "code",
   "execution_count": null,
   "metadata": {},
   "outputs": [],
   "source": [
    "gt_bboxes = torch.randint(0, 320, (2, 4, 4))\n",
    "gt_bboxes"
   ]
  },
  {
   "cell_type": "code",
   "execution_count": null,
   "metadata": {},
   "outputs": [],
   "source": [
    "target_bboxes = gt_bboxes.view(-1, 4)[target_gt_idx]\n",
    "target_bboxes"
   ]
  },
  {
   "cell_type": "code",
   "execution_count": null,
   "metadata": {},
   "outputs": [],
   "source": [
    "target_labels.clamp_(0)\n",
    "target_labels"
   ]
  },
  {
   "cell_type": "code",
   "execution_count": null,
   "metadata": {},
   "outputs": [],
   "source": [
    "# 10x faster than F.one_hot()\n",
    "target_scores = torch.zeros((target_labels.shape[0], target_labels.shape[1], 16),\n",
    "                            dtype=torch.int64,\n",
    "                            device=target_labels.device)  # (b, h*w, 80)\n",
    "\n",
    "target_scores"
   ]
  },
  {
   "cell_type": "code",
   "execution_count": null,
   "metadata": {},
   "outputs": [],
   "source": [
    "target_scores.scatter_(2, target_labels.unsqueeze(-1), 1)\n",
    "target_scores"
   ]
  },
  {
   "cell_type": "code",
   "execution_count": null,
   "metadata": {},
   "outputs": [],
   "source": [
    "fg_scores_mask = fg_mask[:, :, None].repeat(1, 1, 16)\n",
    "fg_scores_mask"
   ]
  },
  {
   "cell_type": "code",
   "execution_count": null,
   "metadata": {},
   "outputs": [],
   "source": [
    "target_scores = torch.where(fg_scores_mask > 0, target_scores, 0)\n",
    "target_scores"
   ]
  },
  {
   "cell_type": "code",
   "execution_count": null,
   "metadata": {},
   "outputs": [],
   "source": [
    "target_scores.size()"
   ]
  },
  {
   "cell_type": "code",
   "execution_count": null,
   "metadata": {},
   "outputs": [],
   "source": []
  },
  {
   "cell_type": "code",
   "execution_count": null,
   "metadata": {},
   "outputs": [],
   "source": [
    "# Normalize\n",
    "align_metric *= mask_pos\n",
    "align_metric"
   ]
  },
  {
   "cell_type": "code",
   "execution_count": null,
   "metadata": {},
   "outputs": [],
   "source": [
    "pos_align_metrics = align_metric.amax(axis=-1, keepdim=True)\n",
    "pos_align_metrics"
   ]
  },
  {
   "cell_type": "code",
   "execution_count": null,
   "metadata": {},
   "outputs": [],
   "source": [
    "overlaps * mask_pos"
   ]
  },
  {
   "cell_type": "code",
   "execution_count": null,
   "metadata": {},
   "outputs": [],
   "source": [
    "pos_overlaps = (overlaps * mask_pos).amax(axis=-1, keepdim=True)\n",
    "pos_overlaps"
   ]
  },
  {
   "cell_type": "code",
   "execution_count": null,
   "metadata": {},
   "outputs": [],
   "source": [
    "align_metric * pos_overlaps / (pos_align_metrics + 1e-9)"
   ]
  },
  {
   "cell_type": "code",
   "execution_count": null,
   "metadata": {},
   "outputs": [],
   "source": [
    "norm_align_metric = (align_metric * pos_overlaps / (pos_align_metrics + 1e-9)).amax(-2).unsqueeze(-1)\n",
    "norm_align_metric"
   ]
  },
  {
   "cell_type": "code",
   "execution_count": null,
   "metadata": {},
   "outputs": [],
   "source": [
    "\n",
    "target_scores = target_scores * norm_align_metric"
   ]
  },
  {
   "cell_type": "code",
   "execution_count": null,
   "metadata": {},
   "outputs": [],
   "source": [
    "target_scores[0]"
   ]
  },
  {
   "cell_type": "code",
   "execution_count": null,
   "metadata": {},
   "outputs": [],
   "source": [
    "target_bboxes.size(), target_scores.size(), fg_mask.size()"
   ]
  },
  {
   "cell_type": "code",
   "execution_count": null,
   "metadata": {},
   "outputs": [],
   "source": []
  },
  {
   "cell_type": "code",
   "execution_count": null,
   "metadata": {},
   "outputs": [],
   "source": []
  },
  {
   "cell_type": "code",
   "execution_count": null,
   "metadata": {},
   "outputs": [],
   "source": [
    "batch_size = 2\n",
    "feats = [torch.rand((batch_size, 256, 80, 80)), \n",
    "         torch.rand((batch_size, 512, 40, 40)), \n",
    "         torch.rand((batch_size, 512, 20, 20))]\n",
    "\n",
    "s = 640\n",
    "strides = torch.tensor([s / x.shape[-2] for x in feats])\n",
    "strides"
   ]
  },
  {
   "cell_type": "code",
   "execution_count": null,
   "metadata": {},
   "outputs": [],
   "source": [
    "\n",
    "\n",
    "def autopad(k, p=None, d=1):  # kernel, padding, dilation\n",
    "    \"\"\"Pad to 'same' shape outputs.\"\"\"\n",
    "    if d > 1:\n",
    "        k = d * (k - 1) + 1 if isinstance(k, int) else [d * (x - 1) + 1 for x in k]  # actual kernel-size\n",
    "    if p is None:\n",
    "        p = k // 2 if isinstance(k, int) else [x // 2 for x in k]  # auto-pad\n",
    "    return p\n",
    "\n",
    "class Conv(nn.Module):\n",
    "    \"\"\"Standard convolution with args(ch_in, ch_out, kernel, stride, padding, groups, dilation, activation).\"\"\"\n",
    "    default_act = nn.SiLU()  # default activation\n",
    "\n",
    "    def __init__(self, c1, c2, k=1, s=1, p=None, g=1, d=1, act=True):\n",
    "        \"\"\"Initialize Conv layer with given arguments including activation.\"\"\"\n",
    "        super().__init__()\n",
    "        self.conv = nn.Conv2d(c1, c2, k, s, autopad(k, p, d), groups=g, dilation=d, bias=False)\n",
    "        self.bn = nn.BatchNorm2d(c2)\n",
    "        self.act = self.default_act if act is True else act if isinstance(act, nn.Module) else nn.Identity()\n",
    "\n",
    "    def forward(self, x):\n",
    "        \"\"\"Apply convolution, batch normalization and activation to input tensor.\"\"\"\n",
    "        return self.act(self.bn(self.conv(x)))\n",
    "\n",
    "    def forward_fuse(self, x):\n",
    "        \"\"\"Perform transposed convolution of 2D data.\"\"\"\n",
    "        return self.act(self.conv(x))\n",
    "    \n",
    "\n",
    "ch = (256, 512, 512)\n",
    "\n",
    "reg_max = 16 \n",
    "nc = 16\n",
    "\n",
    "c2, c3 = max((16, ch[0] // 4, reg_max * 4)), max(ch[0], min(nc, 100))\n",
    "\n",
    "print(c2, c3)\n",
    "\n",
    "cv2 = nn.ModuleList(\n",
    "    nn.Sequential(\n",
    "        Conv(x, c2, 3), \n",
    "        Conv(c2, c2, 3),\n",
    "        nn.Conv2d(c2, 4 * reg_max, 1)) for x in ch)\n",
    "\n",
    "cv3 = nn.ModuleList(\n",
    "    nn.Sequential(\n",
    "        Conv(x, c3, 3), \n",
    "        Conv(c3, c3, 3),\n",
    "        nn.Conv2d(c3, nc, 1)) for x in ch)\n",
    "\n",
    "\n",
    "for i in range(len(ch)):\n",
    "    print(cv2[i](feats[i]).size(),cv3[i](feats[i]).size())\n",
    "    print(torch.cat((cv2[i](feats[i]), cv3[i](feats[i])), 1).size())\n",
    "    feats[i] = torch.cat((cv2[i](feats[i]), cv3[i](feats[i])), 1)\n",
    "\n"
   ]
  },
  {
   "cell_type": "code",
   "execution_count": null,
   "metadata": {},
   "outputs": [],
   "source": [
    "\n",
    "no = nc + reg_max * 4 \n",
    "no"
   ]
  },
  {
   "cell_type": "code",
   "execution_count": null,
   "metadata": {},
   "outputs": [],
   "source": [
    "pred_distri, pred_scores = torch.cat([xi.view(feats[0].shape[0], no, -1) for xi in feats], 2).split((reg_max * 4, nc), 1)\n",
    "pred_distri.size(), pred_scores.size()"
   ]
  },
  {
   "cell_type": "code",
   "execution_count": null,
   "metadata": {},
   "outputs": [],
   "source": [
    "pred_distri = pred_distri.permute(0, 2, 1).contiguous()\n",
    "pred_scores = pred_scores.permute(0, 2, 1).contiguous()\n",
    "pred_distri.size(), pred_scores.size()"
   ]
  },
  {
   "cell_type": "code",
   "execution_count": null,
   "metadata": {},
   "outputs": [],
   "source": [
    "pred_distri = torch.rand((2, 8, 16 * 4))\n",
    "pred_scores = torch.rand((2, 8, 16))\n",
    "pred_distri.size(), pred_scores.size()"
   ]
  },
  {
   "cell_type": "code",
   "execution_count": null,
   "metadata": {},
   "outputs": [],
   "source": [
    "bce = nn.BCEWithLogitsLoss(reduction='none')\n",
    "print(bce(pred_scores, target_scores).sum())\n",
    "print(-(target_scores * pred_scores.sigmoid().log() + (1 - target_scores) * (1 - pred_scores.sigmoid()).log()).sum())"
   ]
  },
  {
   "cell_type": "code",
   "execution_count": null,
   "metadata": {},
   "outputs": [],
   "source": []
  },
  {
   "cell_type": "code",
   "execution_count": null,
   "metadata": {},
   "outputs": [],
   "source": [
    "def make_anchors(feats, strides, grid_cell_offset=0.5):\n",
    "    \"\"\"Generate anchors from features.\"\"\"\n",
    "    anchor_points, stride_tensor = [], []\n",
    "    assert feats is not None\n",
    "    dtype, device = feats[0].dtype, feats[0].device\n",
    "    for i, stride in enumerate(strides):\n",
    "        _, _, h, w = feats[i].shape\n",
    "        sx = torch.arange(end=w, device=device, dtype=dtype) + grid_cell_offset  # shift x\n",
    "        sy = torch.arange(end=h, device=device, dtype=dtype) + grid_cell_offset  # shift y\n",
    "        sy, sx = torch.meshgrid(sy, sx, indexing='ij') \n",
    "        anchor_points.append(torch.stack((sx, sy), -1).view(-1, 2))\n",
    "        stride_tensor.append(torch.full((h * w, 1), stride, dtype=dtype, device=device))\n",
    "    return torch.cat(anchor_points), torch.cat(stride_tensor)\n",
    "\n",
    "anchor_points, stride_tensor = make_anchors(feats, strides, 0.5)\n",
    "\n",
    "print(anchor_points.size())\n",
    "print(stride_tensor.size())\n",
    "\n",
    "anchor_points = torch.rand((8, 2))\n",
    "stride_tensor = torch.randint(8, 32, (8, 1)).float()\n",
    "\n",
    "print(anchor_points.size())\n",
    "print(stride_tensor.size())\n",
    "\n",
    "def bbox2dist(anchor_points, bbox, reg_max):\n",
    "    \"\"\"Transform bbox(xyxy) to dist(ltrb).\"\"\"\n",
    "    x1y1, x2y2 = bbox.chunk(2, -1)\n",
    "    return torch.cat((anchor_points - x1y1, x2y2 - anchor_points), -1).clamp_(0, reg_max - 0.01)\n",
    "\n"
   ]
  },
  {
   "cell_type": "code",
   "execution_count": null,
   "metadata": {},
   "outputs": [],
   "source": [
    "target_bboxes[0, 0]"
   ]
  },
  {
   "cell_type": "code",
   "execution_count": null,
   "metadata": {},
   "outputs": [],
   "source": [
    "stride_tensor[0]"
   ]
  },
  {
   "cell_type": "code",
   "execution_count": null,
   "metadata": {},
   "outputs": [],
   "source": [
    "anchor_points[0]"
   ]
  },
  {
   "cell_type": "code",
   "execution_count": null,
   "metadata": {},
   "outputs": [],
   "source": [
    "target_bboxes = target_bboxes.float()\n",
    "target_bboxes /= stride_tensor\n",
    "target_bboxes[0, 0]"
   ]
  },
  {
   "cell_type": "code",
   "execution_count": null,
   "metadata": {},
   "outputs": [],
   "source": [
    "target_ltrb = bbox2dist(anchor_points, target_bboxes, 16 - 1)\n",
    "\n",
    "target_ltrb[0, 0]"
   ]
  },
  {
   "cell_type": "code",
   "execution_count": null,
   "metadata": {},
   "outputs": [],
   "source": []
  },
  {
   "cell_type": "code",
   "execution_count": null,
   "metadata": {},
   "outputs": [],
   "source": [
    "pred_distri.size(), target_ltrb.size()"
   ]
  },
  {
   "cell_type": "code",
   "execution_count": null,
   "metadata": {},
   "outputs": [],
   "source": [
    "pred_distri[fg_mask.bool()].size(), target_ltrb[fg_mask.bool()].size()"
   ]
  },
  {
   "cell_type": "code",
   "execution_count": null,
   "metadata": {},
   "outputs": [],
   "source": [
    "import torch.nn.functional as F"
   ]
  },
  {
   "cell_type": "code",
   "execution_count": null,
   "metadata": {},
   "outputs": [],
   "source": [
    "pred_distri[fg_mask.bool()].view(-1, 15 + 1).size()"
   ]
  },
  {
   "cell_type": "code",
   "execution_count": null,
   "metadata": {},
   "outputs": [],
   "source": [
    "target_ltrb[fg_mask.bool()].long()[0,:]"
   ]
  },
  {
   "cell_type": "code",
   "execution_count": null,
   "metadata": {},
   "outputs": [],
   "source": [
    "(target_ltrb[fg_mask.bool()].long() + 1)[0,:]"
   ]
  },
  {
   "cell_type": "code",
   "execution_count": null,
   "metadata": {},
   "outputs": [],
   "source": [
    "((target_ltrb[fg_mask.bool()].long() + 1) - target_ltrb[fg_mask.bool()])[0,:]"
   ]
  },
  {
   "cell_type": "code",
   "execution_count": null,
   "metadata": {},
   "outputs": [],
   "source": []
  },
  {
   "cell_type": "code",
   "execution_count": null,
   "metadata": {},
   "outputs": [],
   "source": [
    "tl = target_ltrb[fg_mask.bool()].long()  # target left\n",
    "tr = tl + 1  # target right\n",
    "wl = tr - target_ltrb[fg_mask.bool()]  # weight left\n",
    "wr = 1 - wl  # weight right"
   ]
  },
  {
   "cell_type": "code",
   "execution_count": null,
   "metadata": {},
   "outputs": [],
   "source": [
    "target_ltrb[fg_mask.bool()][0, :]"
   ]
  },
  {
   "cell_type": "code",
   "execution_count": null,
   "metadata": {},
   "outputs": [],
   "source": [
    "tl[0, :], wl[0, :]"
   ]
  },
  {
   "cell_type": "code",
   "execution_count": null,
   "metadata": {},
   "outputs": [],
   "source": [
    "tr[0, :], wr[0, :]"
   ]
  },
  {
   "cell_type": "code",
   "execution_count": null,
   "metadata": {},
   "outputs": [],
   "source": [
    "pred_distri[fg_mask.bool()].view(-1, 15 + 1).size()\n"
   ]
  },
  {
   "cell_type": "code",
   "execution_count": null,
   "metadata": {},
   "outputs": [],
   "source": []
  },
  {
   "cell_type": "code",
   "execution_count": null,
   "metadata": {},
   "outputs": [],
   "source": [
    "tl.view(-1)[15], F.one_hot(tl.view(-1), num_classes=16)[15]"
   ]
  },
  {
   "cell_type": "code",
   "execution_count": null,
   "metadata": {},
   "outputs": [],
   "source": [
    "(-(pred_distri[fg_mask.bool()].view(-1, 15 + 1).softmax(-1).log() * F.one_hot(tl.view(-1), num_classes=16)).sum(-1).view(tl.shape) * wl + \\\n",
    "(-(pred_distri[fg_mask.bool()].view(-1, 15 + 1).softmax(-1).log() * F.one_hot(tr.view(-1), num_classes=16)).sum(-1)).view(tl.shape) * wr).mean(-1, keepdim=True)"
   ]
  },
  {
   "cell_type": "code",
   "execution_count": null,
   "metadata": {},
   "outputs": [],
   "source": [
    "(F.cross_entropy(pred_distri[fg_mask.bool()].view(-1, 15 + 1), tl.view(-1), reduction='none').view(tl.shape) * wl +\n",
    "F.cross_entropy(pred_distri[fg_mask.bool()].view(-1, 15 + 1), tr.view(-1), reduction='none').view(tl.shape) * wr).mean(-1, keepdim=True)"
   ]
  },
  {
   "cell_type": "code",
   "execution_count": null,
   "metadata": {},
   "outputs": [],
   "source": []
  },
  {
   "cell_type": "code",
   "execution_count": null,
   "metadata": {},
   "outputs": [],
   "source": [
    "def dist2bbox(distance, anchor_points, xywh=True, dim=-1):\n",
    "    \"\"\"Transform distance(ltrb) to box(xywh or xyxy).\"\"\"\n",
    "    lt, rb = distance.chunk(2, dim)\n",
    "    x1y1 = anchor_points - lt\n",
    "    x2y2 = anchor_points + rb\n",
    "    if xywh:\n",
    "        c_xy = (x1y1 + x2y2) / 2\n",
    "        wh = x2y2 - x1y1\n",
    "        return torch.cat((c_xy, wh), dim)  # xywh bbox\n",
    "    return torch.cat((x1y1, x2y2), dim)  # xyxy bbox\n",
    "\n",
    "def bbox_decode(anchor_points, pred_dist):\n",
    "    \"\"\"Decode predicted object bounding box coordinates from anchor points and distribution.\"\"\"\n",
    "\n",
    "    b, a, c = pred_dist.shape  # batch, anchors, channels\n",
    "    pred_dist = pred_dist.view(b, a, 4, c // 4).softmax(3).matmul()\n",
    "  \n",
    "    return dist2bbox(pred_dist, anchor_points, xywh=False)\n",
    "\n",
    "\n"
   ]
  },
  {
   "cell_type": "code",
   "execution_count": null,
   "metadata": {},
   "outputs": [],
   "source": [
    "proj = torch.arange(16, dtype=torch.float)\n",
    "proj"
   ]
  },
  {
   "cell_type": "code",
   "execution_count": null,
   "metadata": {},
   "outputs": [],
   "source": [
    "b, a, c = pred_distri.shape\n",
    "pred_distri.view(b, a, 4, c // 4).softmax(3).matmul(proj)[0, 0, 0]"
   ]
  },
  {
   "cell_type": "code",
   "execution_count": null,
   "metadata": {},
   "outputs": [],
   "source": [
    "(pred_distri.view(b, a, 4, c // 4).softmax(3)[0, 0, 0, :] * proj).sum()"
   ]
  },
  {
   "cell_type": "code",
   "execution_count": null,
   "metadata": {},
   "outputs": [],
   "source": [
    "b, a, c = pred_distri.shape\n",
    "pred_dist = pred_distri.view(b, a, 4, c // 4).softmax(3).matmul(proj)\n",
    "\n",
    "pd_bboxes = dist2bbox(pred_dist, anchor_points, xywh=False)\n",
    "pd_bboxes.size()"
   ]
  },
  {
   "cell_type": "code",
   "execution_count": null,
   "metadata": {},
   "outputs": [],
   "source": [
    "pd_bboxes[0, 0]"
   ]
  },
  {
   "cell_type": "code",
   "execution_count": null,
   "metadata": {},
   "outputs": [],
   "source": [
    "\n",
    "def bbox_iou(box1, box2, xywh=True, GIoU=False, DIoU=False, CIoU=False, eps=1e-7):\n",
    "\n",
    "    # Get the coordinates of bounding boxes\n",
    "    if xywh:  # transform from xywh to xyxy\n",
    "        (x1, y1, w1, h1), (x2, y2, w2, h2) = box1.chunk(4, -1), box2.chunk(4, -1)\n",
    "        w1_, h1_, w2_, h2_ = w1 / 2, h1 / 2, w2 / 2, h2 / 2\n",
    "        b1_x1, b1_x2, b1_y1, b1_y2 = x1 - w1_, x1 + w1_, y1 - h1_, y1 + h1_\n",
    "        b2_x1, b2_x2, b2_y1, b2_y2 = x2 - w2_, x2 + w2_, y2 - h2_, y2 + h2_\n",
    "    else:  # x1, y1, x2, y2 = box1\n",
    "        b1_x1, b1_y1, b1_x2, b1_y2 = box1.chunk(4, -1)\n",
    "        b2_x1, b2_y1, b2_x2, b2_y2 = box2.chunk(4, -1)\n",
    "        w1, h1 = b1_x2 - b1_x1, b1_y2 - b1_y1 + eps\n",
    "        w2, h2 = b2_x2 - b2_x1, b2_y2 - b2_y1 + eps\n",
    "    # Intersection area\n",
    "    inter = (b1_x2.minimum(b2_x2) - b1_x1.maximum(b2_x1)).clamp_(0) * \\\n",
    "            (b1_y2.minimum(b2_y2) - b1_y1.maximum(b2_y1)).clamp_(0)\n",
    "\n",
    "    # Union Area\n",
    "    union = w1 * h1 + w2 * h2 - inter + eps\n",
    "\n",
    "    # IoU\n",
    "    iou = inter / union\n",
    "    if CIoU or DIoU or GIoU:\n",
    "        cw = b1_x2.maximum(b2_x2) - b1_x1.minimum(b2_x1)  # convex (smallest enclosing box) width\n",
    "        ch = b1_y2.maximum(b2_y2) - b1_y1.minimum(b2_y1)  # convex height\n",
    "        if CIoU or DIoU:  # Distance or Complete IoU \n",
    "            c2 = cw ** 2 + ch ** 2 + eps  # convex diagonal squared\n",
    "            rho2 = ((b2_x1 + b2_x2 - b1_x1 - b1_x2) ** 2 + (b2_y1 + b2_y2 - b1_y1 - b1_y2) ** 2) / 4  # center dist ** 2\n",
    "            if CIoU: \n",
    "                v = (4 / math.pi ** 2) * (torch.atan(w2 / h2) - torch.atan(w1 / h1)).pow(2)\n",
    "                with torch.no_grad():\n",
    "                    alpha = v / (v - iou + (1 + eps))\n",
    "                return iou - (rho2 / c2 + v * alpha)  # CIoU\n",
    "            return iou - rho2 / c2  # DIoU\n",
    "        c_area = cw * ch + eps  # convex area\n",
    "        return iou - (c_area - union) / c_area \n",
    "    return iou  # IoU\n",
    "\n"
   ]
  },
  {
   "cell_type": "code",
   "execution_count": null,
   "metadata": {},
   "outputs": [],
   "source": [
    "\n",
    "target_scores_sum = max(target_scores.sum(), 1)\n",
    "\n",
    "weight = target_scores.sum(-1)[fg_mask.bool()].unsqueeze(-1)\n",
    "iou = bbox_iou(pd_bboxes[fg_mask.bool()], target_bboxes[fg_mask.bool()], xywh=False, CIoU=True)\n",
    "loss_iou = ((1.0 - iou) * weight).sum() / target_scores_sum\n",
    "loss_iou"
   ]
  },
  {
   "cell_type": "code",
   "execution_count": null,
   "metadata": {},
   "outputs": [],
   "source": []
  },
  {
   "cell_type": "code",
   "execution_count": null,
   "metadata": {},
   "outputs": [],
   "source": []
  },
  {
   "cell_type": "code",
   "execution_count": null,
   "metadata": {},
   "outputs": [],
   "source": [
    "from ultralytics import YOLO"
   ]
  },
  {
   "cell_type": "code",
   "execution_count": null,
   "metadata": {},
   "outputs": [],
   "source": [
    "model = YOLO('yolov8n.yaml')\n",
    "model.train()"
   ]
  },
  {
   "cell_type": "code",
   "execution_count": null,
   "metadata": {},
   "outputs": [],
   "source": [
    "model.val()"
   ]
  },
  {
   "cell_type": "code",
   "execution_count": null,
   "metadata": {},
   "outputs": [],
   "source": [
    "\n",
    "class ShuffleChannel(nn.Module):\n",
    "\n",
    "    def __init__(self, g) -> None:\n",
    "        super().__init__()\n",
    "\n",
    "        self.g = g\n",
    "\n",
    "    def forward(self, x):\n",
    "        b, c, h, w = x.size()\n",
    "\n",
    "        x = x.view()\n",
    "        x = torch.transpose()\n",
    "        x = x.view()\n",
    "\n",
    "        return x\n",
    "\n",
    "class ShuffleConv(nn.Module):\n",
    "\n",
    "\n",
    "    def __init__(self, c1, c2, k=1, s=1, p=None, g=1, d=1) -> None:\n",
    "        super().__init__()\n",
    "\n",
    "        self.GConv1 = nn.Sequential(\n",
    "            nn.Conv2d(),\n",
    "            nn.BatchNorm2d(),\n",
    "            nn.SiLU(),\n",
    "        )\n",
    "\n",
    "        self.DWConv1 = nn.Sequential(\n",
    "            nn.Conv2d(),\n",
    "            nn.BatchNorm2d(),\n",
    "        )\n",
    "\n",
    "        self.GConv2 = nn.Sequential(\n",
    "            nn.Conv2d(),\n",
    "            nn.BatchNorm2d(),\n",
    "        )\n",
    "\n",
    "        self.shorcut = nn.Sequential(\n",
    "            nn.AvgPool2d()\n",
    "        )\n",
    "\n",
    "        self.shuffleChannel = ShuffleChannel(g)\n",
    "\n",
    "    def forward(self, x):\n",
    "        y = self.GConv1(x)\n",
    "        y = self.shuffleChannel(y)\n",
    "        y = self.DWConv1(y)\n",
    "        y = self.GConv2(y)\n",
    "        \n",
    "        short = self.shorcut(x)\n",
    "        torch.cat([y, short], dim=1)\n",
    "\n",
    "        return y\n",
    "        "
   ]
  },
  {
   "cell_type": "code",
   "execution_count": null,
   "metadata": {},
   "outputs": [],
   "source": []
  },
  {
   "cell_type": "code",
   "execution_count": null,
   "metadata": {},
   "outputs": [],
   "source": [
    "class DFL(nn.Module):\n",
    "\n",
    "    def __init__(self, c1=16):\n",
    "\n",
    "        super().__init__()\n",
    "        self.conv = nn.Conv2d(c1, 1, 1, bias=False).requires_grad_(False)\n",
    "        x = torch.arange(c1, dtype=torch.float)\n",
    "        self.conv.weight.data[:] = nn.Parameter(x.view(1, c1, 1, 1))\n",
    "        self.c1 = c1\n",
    "\n",
    "    def forward(self, x):\n",
    "        b, c, a = x.shape\n",
    "        return self.conv(x.view(b, 4, self.c1, a).transpose(2, 1).softmax(1)).view(b, 4, a)\n",
    "    \n",
    "class Detect(nn.Module):\n",
    "    \"\"\"YOLOv8 Detect head for detection models.\"\"\"\n",
    "    dynamic = False  # force grid reconstruction\n",
    "    export = False  # export mode\n",
    "    shape = None\n",
    "    anchors = torch.empty(0)  # init\n",
    "    strides = torch.empty(0)  # init\n",
    "\n",
    "    def __init__(self, nc=80, ch=()):  # detection layer\n",
    "        super().__init__()\n",
    "        self.nc = nc  # number of classes\n",
    "        self.nl = len(ch)  # number of detection layers\n",
    "        self.reg_max = 16  # DFL channels (ch[0] // 16 to scale 4/8/12/16/20 for n/s/m/l/x)\n",
    "        self.no = nc + self.reg_max * 4  # number of outputs per anchor\n",
    "        self.stride = torch.zeros(self.nl)  # strides computed during build\n",
    "        c2, c3 = max((16, ch[0] // 4, self.reg_max * 4)), max(ch[0], self.nc)  # channels\n",
    "        self.cv2 = nn.ModuleList(\n",
    "            nn.Sequential(Conv(x, c2, 3), Conv(c2, c2, 3), nn.Conv2d(c2, 4 * self.reg_max, 1)) for x in ch)\n",
    "        self.cv3 = nn.ModuleList(nn.Sequential(Conv(x, c3, 3), Conv(c3, c3, 3), nn.Conv2d(c3, self.nc, 1)) for x in ch)\n",
    "        self.dfl = DFL(self.reg_max) if self.reg_max > 1 else nn.Identity()\n",
    "\n",
    "    def forward(self, x):\n",
    "        \"\"\"Concatenates and returns predicted bounding boxes and class probabilities.\"\"\"\n",
    "        shape = x[0].shape  # BCHW\n",
    "        for i in range(self.nl):\n",
    "            x[i] = torch.cat((self.cv2[i](x[i]), self.cv3[i](x[i])), 1)\n",
    "        if self.training:\n",
    "            return x\n",
    "        elif self.dynamic or self.shape != shape:\n",
    "            self.anchors, self.strides = (x.transpose(0, 1) for x in make_anchors(x, self.stride, 0.5))\n",
    "            self.shape = shape\n",
    "\n",
    "        x_cat = torch.cat([xi.view(shape[0], self.no, -1) for xi in x], 2)\n",
    "        if self.export and self.format in ('saved_model', 'pb', 'tflite', 'edgetpu', 'tfjs'):  # avoid TF FlexSplitV ops\n",
    "            box = x_cat[:, :self.reg_max * 4]\n",
    "            cls = x_cat[:, self.reg_max * 4:]\n",
    "        else:\n",
    "            box, cls = x_cat.split((self.reg_max * 4, self.nc), 1)\n",
    "        dbox = dist2bbox(self.dfl(box), self.anchors.unsqueeze(0), xywh=True, dim=1) * self.strides\n",
    "        y = torch.cat((dbox, cls.sigmoid()), 1)\n",
    "        return y if self.export else (y, x)\n",
    "\n",
    "    def bias_init(self):\n",
    "        \"\"\"Initialize Detect() biases, WARNING: requires stride availability.\"\"\"\n",
    "        m = self  # self.model[-1]  # Detect() module\n",
    "        # cf = torch.bincount(torch.tensor(np.concatenate(dataset.labels, 0)[:, 0]).long(), minlength=nc) + 1\n",
    "        # ncf = math.log(0.6 / (m.nc - 0.999999)) if cf is None else torch.log(cf / cf.sum())  # nominal class frequency\n",
    "        for a, b, s in zip(m.cv2, m.cv3, m.stride):  # from\n",
    "            a[-1].bias.data[:] = 1.0  # box\n",
    "            b[-1].bias.data[:m.nc] = math.log(5 / m.nc / (640 / s) ** 2)  # cls (.01 objects, 80 classes, 640 img)"
   ]
  },
  {
   "cell_type": "code",
   "execution_count": null,
   "metadata": {},
   "outputs": [],
   "source": [
    "class SPPF(nn.Module):\n",
    "    \"\"\"Spatial Pyramid Pooling - Fast (SPPF) layer for YOLOv5 by Glenn Jocher.\"\"\"\n",
    "\n",
    "    def __init__(self, c1, c2, k=5):  # equivalent to SPP(k=(5, 9, 13))\n",
    "        super().__init__()\n",
    "        c_ = c1 // 2  # hidden channels\n",
    "        self.cv1 = Conv(c1, c_, 1, 1)\n",
    "        self.cv2 = Conv(c_ * 4, c2, 1, 1)\n",
    "        self.m = nn.MaxPool2d(kernel_size=k, stride=1, padding=k // 2)\n",
    "\n",
    "    def forward(self, x):\n",
    "        \"\"\"Forward pass through Ghost Convolution block.\"\"\"\n",
    "        x = self.cv1(x)\n",
    "        y1 = self.m(x)\n",
    "        y2 = self.m(y1)\n",
    "        return self.cv2(torch.cat((x, y1, y2, self.m(y2)), 1))"
   ]
  },
  {
   "cell_type": "code",
   "execution_count": null,
   "metadata": {},
   "outputs": [],
   "source": [
    "class Bottleneck(nn.Module):\n",
    "    \"\"\"Standard bottleneck.\"\"\"\n",
    "\n",
    "    def __init__(self, c1, c2, shortcut=True, g=1, k=(3, 3), e=0.5):  # ch_in, ch_out, shortcut, groups, kernels, expand\n",
    "        super().__init__()\n",
    "        c_ = int(c2 * e)  # hidden channels\n",
    "        self.cv1 = Conv(c1, c_, k[0], 1)\n",
    "        self.cv2 = Conv(c_, c2, k[1], 1, g=g)\n",
    "        self.add = shortcut and c1 == c2\n",
    "\n",
    "    def forward(self, x):\n",
    "        \"\"\"'forward()' applies the YOLOv5 FPN to input data.\"\"\"\n",
    "        return x + self.cv2(self.cv1(x)) if self.add else self.cv2(self.cv1(x))\n",
    "\n",
    "class C2f(nn.Module):\n",
    "    \"\"\"CSP Bottleneck with 2 convolutions.\"\"\"\n",
    "\n",
    "    def __init__(self, c1, c2, n=1, shortcut=False, g=1, e=0.5):  # ch_in, ch_out, number, shortcut, groups, expansion\n",
    "        super().__init__()\n",
    "        self.c = int(c2 * e)  # hidden channels\n",
    "        self.cv1 = Conv(c1, 2 * self.c, 1, 1)\n",
    "        self.cv2 = Conv((2 + n) * self.c, c2, 1)  # optional act=FReLU(c2)\n",
    "        self.m = nn.ModuleList(Bottleneck(self.c, self.c, shortcut, g, k=((3, 3), (3, 3)), e=1.0) for _ in range(n))\n",
    "\n",
    "    def forward(self, x):\n",
    "        \"\"\"Forward pass through C2f layer.\"\"\"\n",
    "        y = list(self.cv1(x).chunk(2, 1))\n",
    "        y.extend(m(y[-1]) for m in self.m)\n",
    "        return self.cv2(torch.cat(y, 1))\n",
    "\n",
    "    def forward_split(self, x):\n",
    "        \"\"\"Forward pass using split() instead of chunk().\"\"\"\n",
    "        y = list(self.cv1(x).split((self.c, self.c), 1))\n",
    "        y.extend(m(y[-1]) for m in self.m)\n",
    "        return self.cv2(torch.cat(y, 1))"
   ]
  },
  {
   "cell_type": "code",
   "execution_count": null,
   "metadata": {},
   "outputs": [],
   "source": []
  },
  {
   "cell_type": "code",
   "execution_count": 7,
   "metadata": {},
   "outputs": [],
   "source": [
    "from ultralytics import YOLO"
   ]
  },
  {
   "cell_type": "code",
   "execution_count": null,
   "metadata": {},
   "outputs": [],
   "source": [
    "model = YOLO('yolov8n.yaml')\n",
    "model.train()"
   ]
  },
  {
   "cell_type": "code",
   "execution_count": null,
   "metadata": {},
   "outputs": [],
   "source": []
  },
  {
   "cell_type": "code",
   "execution_count": 3,
   "metadata": {},
   "outputs": [],
   "source": [
    "from pathlib import Path\n",
    "import numpy as np \n",
    "import matplotlib.pyplot as plt\n",
    "import cv2 as cv\n",
    "import torch"
   ]
  },
  {
   "cell_type": "code",
   "execution_count": 4,
   "metadata": {},
   "outputs": [],
   "source": []
  },
  {
   "cell_type": "code",
   "execution_count": 5,
   "metadata": {},
   "outputs": [],
   "source": []
  },
  {
   "cell_type": "code",
   "execution_count": null,
   "metadata": {},
   "outputs": [],
   "source": [
    "\n"
   ]
  },
  {
   "cell_type": "code",
   "execution_count": null,
   "metadata": {},
   "outputs": [],
   "source": [
    "\n",
    "class Metric():\n",
    "\n",
    "    def __init__(self) -> None:\n",
    "        self.p = []  # (nc, )\n",
    "        self.r = []  # (nc, )\n",
    "        self.f1 = []  # (nc, )\n",
    "        self.all_ap = []  # (nc, 10)\n",
    "        self.ap_class_index = []  # (nc, )\n",
    "        self.nc = 0\n",
    "\n",
    "    @property\n",
    "    def ap50(self):\n",
    "        return self.all_ap[:, 0] if len(self.all_ap) else []\n",
    "\n",
    "    @property\n",
    "    def ap(self):\n",
    "        return self.all_ap.mean(1) if len(self.all_ap) else []\n",
    "\n",
    "    @property\n",
    "    def mp(self):\n",
    "        return self.p.mean() if len(self.p) else 0.0\n",
    "\n",
    "    @property\n",
    "    def mr(self):\n",
    "        return self.r.mean() if len(self.r) else 0.0\n",
    "\n",
    "    @property\n",
    "    def map50(self):\n",
    "        return self.all_ap[:, 0].mean() if len(self.all_ap) else 0.0\n",
    "\n",
    "    @property\n",
    "    def map75(self):\n",
    "        return self.all_ap[:, 5].mean() if len(self.all_ap) else 0.0\n",
    "\n",
    "    @property\n",
    "    def map(self):\n",
    "        return self.all_ap.mean() if len(self.all_ap) else 0.0\n",
    "\n",
    "    def mean_results(self):\n",
    "        return [self.mp, self.mr, self.map50, self.map]\n",
    "\n",
    "    def class_result(self, i):\n",
    "        return self.p[i], self.r[i], self.ap50[i], self.ap[i]\n",
    "\n",
    "    @property\n",
    "    def maps(self):\n",
    "        maps = np.zeros(self.nc) + self.map\n",
    "        for i, c in enumerate(self.ap_class_index):\n",
    "            maps[c] = self.ap[i]\n",
    "        return maps\n",
    "\n",
    "    def fitness(self):\n",
    "        w = [0.0, 0.0, 0.1, 0.9]  # weights for [P, R, mAP@0.5, mAP@0.5:0.95]\n",
    "        return (np.array(self.mean_results()) * w).sum()\n",
    "\n",
    "    def update(self, results):\n",
    "        self.p, self.r, self.f1, self.all_ap, self.ap_class_index = results\n",
    "\n",
    "\n",
    "class DetMetrics():\n",
    "    \n",
    "    def __init__(self, save_dir=Path('.'), plot=False, on_plot=None, names=()) -> None:\n",
    "        self.save_dir = save_dir\n",
    "        self.plot = plot\n",
    "        self.on_plot = on_plot\n",
    "        self.names = names\n",
    "        self.box = Metric()\n",
    "        self.speed = {'preprocess': 0.0, 'inference': 0.0, 'loss': 0.0, 'postprocess': 0.0}\n",
    "\n",
    "    def process(self, tp, conf, pred_cls, target_cls):\n",
    "        results = ap_per_class(tp,\n",
    "                               conf,\n",
    "                               pred_cls,\n",
    "                               target_cls,\n",
    "                               plot=self.plot,\n",
    "                               save_dir=self.save_dir,\n",
    "                               names=self.names,\n",
    "                               on_plot=self.on_plot)[2:]\n",
    "        self.box.nc = len(self.names)\n",
    "        self.box.update(results)\n",
    "\n",
    "    @property\n",
    "    def keys(self):\n",
    "        return ['metrics/precision(B)', 'metrics/recall(B)', 'metrics/mAP50(B)', 'metrics/mAP50-95(B)']\n",
    "\n",
    "    def mean_results(self):\n",
    "        return self.box.mean_results()\n",
    "\n",
    "    def class_result(self, i):\n",
    "        return self.box.class_result(i)\n",
    "\n",
    "    @property\n",
    "    def maps(self):\n",
    "        return self.box.maps\n",
    "\n",
    "    @property\n",
    "    def fitness(self):\n",
    "        return self.box.fitness()\n",
    "\n",
    "    @property\n",
    "    def ap_class_index(self):\n",
    "        return self.box.ap_class_index\n",
    "\n",
    "    @property\n",
    "    def results_dict(self):\n",
    "        return dict(zip(self.keys + ['fitness'], self.mean_results() + [self.fitness]))\n"
   ]
  },
  {
   "cell_type": "code",
   "execution_count": 6,
   "metadata": {},
   "outputs": [],
   "source": [
    "def xywh2xyxy(x):\n",
    "\n",
    "    assert x.shape[-1] == 4, f'input shape last dimension expected 4 but input shape is {x.shape}'\n",
    "    y = torch.empty_like(x) if isinstance(x, torch.Tensor) else np.empty_like(x)  # faster than clone/copy\n",
    "    dw = x[..., 2] / 2  # half-width\n",
    "    dh = x[..., 3] / 2  # half-height\n",
    "    y[..., 0] = x[..., 0] - dw  # top left x\n",
    "    y[..., 1] = x[..., 1] - dh  # top left y\n",
    "    y[..., 2] = x[..., 0] + dw  # bottom right x\n",
    "    y[..., 3] = x[..., 1] + dh  # bottom right y\n",
    "    return y\n",
    "\n",
    "\n",
    "def box_iou(box1, box2, eps=1e-7):\n",
    "\n",
    "    # inter(N,M) = (rb(N,M,2) - lt(N,M,2)).clamp(0).prod(2)\n",
    "    (a1, a2), (b1, b2) = box1.unsqueeze(1).chunk(2, 2), box2.unsqueeze(0).chunk(2, 2)\n",
    "    inter = (torch.min(a2, b2) - torch.max(a1, b1)).clamp_(0).prod(2)\n",
    "\n",
    "    # IoU = inter / (area1 + area2 - inter)\n",
    "    return inter / ((a2 - a1).prod(2) + (b2 - b1).prod(2) - inter + eps)\n",
    "\n",
    "iouv = torch.linspace(0.5, 0.95, 10)  # iou vector for mAP@0.5:0.95\n",
    "\n",
    "def match_predictions(pred_classes, true_classes, iou, use_scipy=False):\n",
    "    \"\"\"\n",
    "    Matches predictions to ground truth objects (pred_classes, true_classes) using IoU.\n",
    "\n",
    "    Args:\n",
    "        pred_classes (torch.Tensor): Predicted class indices of shape(N,).\n",
    "        true_classes (torch.Tensor): Target class indices of shape(M,).\n",
    "        iou (torch.Tensor): An NxM tensor containing the pairwise IoU values for predictions and ground of truth\n",
    "        use_scipy (bool): Whether to use scipy for matching (more precise).\n",
    "\n",
    "    Returns:\n",
    "        (torch.Tensor): Correct tensor of shape(N,10) for 10 IoU thresholds.\n",
    "    \"\"\"\n",
    "    # Dx10 matrix, where D - detections, 10 - IoU thresholds\n",
    "    correct = np.zeros((pred_classes.shape[0], iouv.shape[0])).astype(bool)\n",
    "    # LxD matrix where L - labels (rows), D - detections (columns)\n",
    "    correct_class = true_classes[:, None] == pred_classes\n",
    "    iou = iou * correct_class  # zero out the wrong classes\n",
    "    iou = iou.cpu().numpy()\n",
    "    for i, threshold in enumerate(iouv.cpu().tolist()):\n",
    "        if use_scipy:\n",
    "            # WARNING: known issue that reduces mAP in https://github.com/ultralytics/ultralytics/pull/4708\n",
    "            import scipy  # scope import to avoid importing for all commands\n",
    "            cost_matrix = iou * (iou >= threshold)\n",
    "            if cost_matrix.any():\n",
    "                labels_idx, detections_idx = scipy.optimize.linear_sum_assignment(cost_matrix, maximize=True)\n",
    "                valid = cost_matrix[labels_idx, detections_idx] > 0\n",
    "                if valid.any():\n",
    "                    correct[detections_idx[valid], i] = True\n",
    "        else:\n",
    "            matches = np.nonzero(iou >= threshold)  # IoU > threshold and classes match\n",
    "            matches = np.array(matches).T\n",
    "            if matches.shape[0]:\n",
    "                if matches.shape[0] > 1:\n",
    "                    matches = matches[iou[matches[:, 0], matches[:, 1]].argsort()[::-1]]\n",
    "                    matches = matches[np.unique(matches[:, 1], return_index=True)[1]]\n",
    "                    # matches = matches[matches[:, 2].argsort()[::-1]]\n",
    "                    matches = matches[np.unique(matches[:, 0], return_index=True)[1]]\n",
    "                correct[matches[:, 1].astype(int), i] = True\n",
    "    return torch.tensor(correct, dtype=torch.bool, device=pred_classes.device)\n"
   ]
  },
  {
   "cell_type": "code",
   "execution_count": null,
   "metadata": {},
   "outputs": [],
   "source": []
  },
  {
   "cell_type": "code",
   "execution_count": 7,
   "metadata": {},
   "outputs": [],
   "source": [
    "batch_size = 3\n",
    "\n",
    "preds = torch.randint(0, 320, (batch_size, 200, 4))\n",
    "preds[..., 0] = preds[..., 0] + preds[..., 2] / 2\n",
    "preds[..., 1] = preds[..., 1] + preds[..., 3] / 2\n",
    "preds = xywh2xyxy(preds)\n",
    "# preds = preds.float()\n",
    "\n",
    "preds = torch.cat((preds, torch.rand((batch_size, 200, 1))), -1)\n",
    "\n",
    "preds = torch.cat((preds, torch.randint(0, 2, (batch_size, 200, 1))), -1)  # native-space labels\n"
   ]
  },
  {
   "cell_type": "code",
   "execution_count": null,
   "metadata": {},
   "outputs": [],
   "source": []
  },
  {
   "cell_type": "code",
   "execution_count": 8,
   "metadata": {},
   "outputs": [
    {
     "name": "stdout",
     "output_type": "stream",
     "text": [
      "torch.Size([200, 10])\n",
      "torch.Size([200, 10])\n",
      "torch.Size([200, 10])\n"
     ]
    },
    {
     "data": {
      "image/png": "[encoded data removed]",
      "text/plain": [
       "<Figure size 640x480 with 6 Axes>"
      ]
     },
     "metadata": {},
     "output_type": "display_data"
    }
   ],
   "source": [
    "\n",
    "\n",
    "plt.figure()\n",
    "\n",
    "\n",
    "stats = []\n",
    "\n",
    "for si, pred in enumerate(preds):\n",
    "\n",
    "\n",
    "    image = np.full_like(np.empty((640, 640, 3), np.uint8), 128)\n",
    "    for box in pred:\n",
    "        box = box.int()\n",
    "        cv.rectangle(image, (box[0].item(), box[1].item()), (box[2].item(), box[3].item()), (0, 0, 255), 2)\n",
    "    plt.subplot(2, batch_size, si + 1)\n",
    "    plt.imshow(image)\n",
    "\n",
    "\n",
    "    cls = torch.randint(0, 2, (3, 1))\n",
    "    bbox = torch.randint(0, 320, (3, 4))\n",
    "    bbox[..., 0] = bbox[..., 0] + bbox[..., 2] / 2\n",
    "    bbox[..., 1] = bbox[..., 1] + bbox[..., 3] / 2\n",
    "    tbox = xywh2xyxy(bbox)\n",
    "\n",
    "\n",
    "    image = np.full_like(np.empty((640, 640, 3), np.uint8), 128)\n",
    "    for box in tbox:\n",
    "        cv.rectangle(image, (box[0].item(), box[1].item()), (box[2].item(), box[3].item()), (0, 0, 255), 2)\n",
    "    plt.subplot(2, batch_size, si + batch_size + 1)\n",
    "    plt.imshow(image)\n",
    "\n",
    "\n",
    "    detections = pred.clone()\n",
    "    labels = torch.cat((cls, tbox), 1)  # native-space labels\n",
    "\n",
    "    iou = box_iou(labels[:, 1:], detections[:, :4])\n",
    "\n",
    "\n",
    "    correct_bboxes = match_predictions(detections[:, 5], labels[:, 0], iou)\n",
    "\n",
    "    print(correct_bboxes.shape)\n",
    "\n",
    "\n",
    "    stats.append((correct_bboxes, pred[:, 4], pred[:, 5], cls.squeeze(-1)))\n"
   ]
  },
  {
   "cell_type": "code",
   "execution_count": 324,
   "metadata": {},
   "outputs": [],
   "source": []
  },
  {
   "cell_type": "code",
   "execution_count": 9,
   "metadata": {},
   "outputs": [],
   "source": [
    "pred_classes = detections[:, 5]\n",
    "true_classes = labels[:, 0]\n",
    "\n",
    "\n",
    "iouv = torch.linspace(0.5, 0.95, 10)  # iou vector for mAP@0.5:0.95\n",
    "\n",
    "# Dx10 matrix, where D - detections, 10 - IoU thresholds\n",
    "correct = np.zeros((pred_classes.shape[0], iouv.shape[0])).astype(bool)\n",
    "# LxD matrix where L - labels (rows), D - detections (columns)\n",
    "correct_class = true_classes[:, None] == pred_classes\n",
    "iou = iou * correct_class  # zero out the wrong classes\n",
    "iou = iou.cpu().numpy()\n",
    "\n",
    "# print(iou)\n",
    "\n",
    "for i, threshold in enumerate(iouv.cpu().tolist()):\n",
    "    matches = np.nonzero(iou >= threshold)  # IoU > threshold and classes match\n",
    "    matches = np.array(matches).T\n",
    "    \n",
    "    if matches.shape[0]:\n",
    "        print(\"=\" * 10)\n",
    "        print(matches)\n",
    "        # print(matches.shape)\n",
    "        if matches.shape[0] > 1:\n",
    "\n",
    "            print(iou[matches[:, 0], matches[:, 1]])\n",
    "            # print(iou[matches[:, 0], matches[:, 1]].argsort())\n",
    "            print(iou[matches[:, 0], matches[:, 1]].argsort()[::-1])\n",
    "\n",
    "            matches = matches[iou[matches[:, 0], matches[:, 1]].argsort()[::-1]]\n",
    "\n",
    "            print(matches)\n",
    "            # print(np.unique(matches[:, 1], return_index=True))\n",
    "            print(\"-\" * 10)\n",
    "            matches = matches[np.unique(matches[:, 1], return_index=True)[1]]\n",
    "\n",
    "            print(matches)\n",
    "            # print(np.unique(matches[:, 0], return_index=True))\n",
    "            matches = matches[np.unique(matches[:, 0], return_index=True)[1]]\n",
    "\n",
    "            print(matches)\n",
    "            print(i)\n",
    "\n",
    "        correct[matches[:, 1].astype(int), i] = True\n",
    "        # print(iou)\n",
    "        print(correct[:, i]) "
   ]
  },
  {
   "cell_type": "code",
   "execution_count": 21,
   "metadata": {},
   "outputs": [],
   "source": [
    "stats = [torch.cat(x, 0).cpu().numpy() for x in zip(*stats)]"
   ]
  },
  {
   "cell_type": "code",
   "execution_count": null,
   "metadata": {},
   "outputs": [],
   "source": []
  },
  {
   "cell_type": "code",
   "execution_count": null,
   "metadata": {},
   "outputs": [],
   "source": [
    "def compute_ap(recall, precision):\n",
    "\n",
    "    # Append sentinel values to beginning and end\n",
    "    mrec = np.concatenate(([0.0], recall, [1.0]))\n",
    "    mpre = np.concatenate(([1.0], precision, [0.0]))\n",
    "\n",
    "    # Compute the precision envelope\n",
    "    mpre = np.flip(np.maximum.accumulate(np.flip(mpre)))\n",
    "\n",
    "    # Integrate area under curve\n",
    "    method = 'interp'  # methods: 'continuous', 'interp'\n",
    "    if method == 'interp':\n",
    "        x = np.linspace(0, 1, 101)  # 101-point interp (COCO)\n",
    "        ap = np.trapz(np.interp(x, mrec, mpre), x)  # integrate\n",
    "    else:  # 'continuous'\n",
    "        i = np.where(mrec[1:] != mrec[:-1])[0]  # points where x-axis (recall) changes\n",
    "        ap = np.sum((mrec[i + 1] - mrec[i]) * mpre[i + 1])  # area under curve\n",
    "\n",
    "    return ap, mpre, mrec\n",
    "\n",
    "def smooth(y, f=0.05):\n",
    "    \"\"\"Box filter of fraction f.\"\"\"\n",
    "    nf = round(len(y) * f * 2) // 2 + 1  # number of filter elements (must be odd)\n",
    "    p = np.ones(nf // 2)  # ones padding\n",
    "    yp = np.concatenate((p * y[0], y, p * y[-1]), 0)  # y padded\n",
    "    return np.convolve(yp, np.ones(nf) / nf, mode='valid')  # y-smoothed\n",
    "\n",
    "    \n",
    "def ap_per_class(tp, conf, pred_cls, target_cls, plot=False, on_plot=None, \n",
    "                 save_dir=Path(), names=(), eps=1e-16, prefix=''):\n",
    "\n",
    "    # Sort by objectness\n",
    "    i = np.argsort(-conf)\n",
    "    tp, conf, pred_cls = tp[i], conf[i], pred_cls[i]\n",
    "\n",
    "    # Find unique classes\n",
    "    unique_classes, nt = np.unique(target_cls, return_counts=True)\n",
    "    nc = unique_classes.shape[0]  # number of classes, number of detections\n",
    "\n",
    "    # Create Precision-Recall curve and compute AP for each class\n",
    "    px, py = np.linspace(0, 1, 1000), []  # for plotting\n",
    "    ap, p, r = np.zeros((nc, tp.shape[1])), np.zeros((nc, 1000)), np.zeros((nc, 1000))\n",
    "    for ci, c in enumerate(unique_classes):\n",
    "        i = pred_cls == c\n",
    "        n_l = nt[ci]  # number of labels\n",
    "        n_p = i.sum()  # number of predictions\n",
    "        if n_p == 0 or n_l == 0:\n",
    "            continue\n",
    "\n",
    "        # Accumulate FPs and TPs\n",
    "        fpc = (1 - tp[i]).cumsum(0)\n",
    "        tpc = tp[i].cumsum(0)\n",
    "\n",
    "        # Recall\n",
    "        recall = tpc / (n_l + eps)  # recall curve\n",
    "        r[ci] = np.interp(-px, -conf[i], recall[:, 0], left=0)  # negative x, xp because xp decreases\n",
    "\n",
    "        # Precision\n",
    "        precision = tpc / (tpc + fpc)  # precision curve\n",
    "        p[ci] = np.interp(-px, -conf[i], precision[:, 0], left=1)  # p at pr_score\n",
    "\n",
    "        # AP from recall-precision curve\n",
    "        for j in range(tp.shape[1]):\n",
    "            ap[ci, j], mpre, mrec = compute_ap(recall[:, j], precision[:, j])\n",
    "            if plot and j == 0:\n",
    "                py.append(np.interp(px, mrec, mpre))  # precision at mAP@0.5\n",
    "\n",
    "    # Compute F1 (harmonic mean of precision and recall)\n",
    "    f1 = 2 * p * r / (p + r + eps)\n",
    "    names = [v for k, v in names.items() if k in unique_classes]  # list: only classes that have data\n",
    "    names = dict(enumerate(names))  # to dict\n",
    "    \n",
    "    # if plot:\n",
    "    #     plot_pr_curve(px, py, ap, save_dir / f'{prefix}PR_curve.png', names, on_plot=on_plot)\n",
    "    #     plot_mc_curve(px, f1, save_dir / f'{prefix}F1_curve.png', names, ylabel='F1', on_plot=on_plot)\n",
    "    #     plot_mc_curve(px, p, save_dir / f'{prefix}P_curve.png', names, ylabel='Precision', on_plot=on_plot)\n",
    "    #     plot_mc_curve(px, r, save_dir / f'{prefix}R_curve.png', names, ylabel='Recall', on_plot=on_plot)\n",
    "\n",
    "    i = smooth(f1.mean(0), 0.1).argmax()  # max F1 index\n",
    "    p, r, f1 = p[:, i], r[:, i], f1[:, i]\n",
    "    tp = (r * nt).round()  # true positives\n",
    "    fp = (tp / (p + eps) - tp).round()  # false positives\n",
    "    return tp, fp, p, r, f1, ap, unique_classes.astype(int)\n"
   ]
  },
  {
   "cell_type": "code",
   "execution_count": null,
   "metadata": {},
   "outputs": [],
   "source": []
  },
  {
   "cell_type": "code",
   "execution_count": null,
   "metadata": {},
   "outputs": [],
   "source": []
  },
  {
   "cell_type": "code",
   "execution_count": null,
   "metadata": {},
   "outputs": [],
   "source": []
  },
  {
   "cell_type": "code",
   "execution_count": null,
   "metadata": {},
   "outputs": [],
   "source": []
  },
  {
   "cell_type": "code",
   "execution_count": null,
   "metadata": {},
   "outputs": [],
   "source": []
  },
  {
   "cell_type": "code",
   "execution_count": null,
   "metadata": {},
   "outputs": [],
   "source": []
  },
  {
   "cell_type": "code",
   "execution_count": null,
   "metadata": {},
   "outputs": [],
   "source": [
    "def clip_boxes(boxes, shape):\n",
    "\n",
    "\n",
    "    if isinstance(boxes, torch.Tensor):  # faster individually (WARNING: inplace .clamp_() Apple MPS bug)\n",
    "        boxes[..., 0] = boxes[..., 0].clamp(0, shape[1])  # x1\n",
    "        boxes[..., 1] = boxes[..., 1].clamp(0, shape[0])  # y1\n",
    "        boxes[..., 2] = boxes[..., 2].clamp(0, shape[1])  # x2\n",
    "        boxes[..., 3] = boxes[..., 3].clamp(0, shape[0])  # y2\n",
    "    else:  # np.array (faster grouped)\n",
    "        boxes[..., [0, 2]] = boxes[..., [0, 2]].clip(0, shape[1])  # x1, x2\n",
    "        boxes[..., [1, 3]] = boxes[..., [1, 3]].clip(0, shape[0])  # y1, y2\n",
    "    return boxes\n",
    "\n",
    "def scale_boxes(img1_shape, boxes, img0_shape, ratio_pad=None, padding=True):\n",
    "\n",
    "    if ratio_pad is None:  # calculate from img0_shape\n",
    "        gain = min(img1_shape[0] / img0_shape[0], img1_shape[1] / img0_shape[1])  # gain  = old / new\n",
    "        pad = round((img1_shape[1] - img0_shape[1] * gain) / 2 - 0.1), round(\n",
    "            (img1_shape[0] - img0_shape[0] * gain) / 2 - 0.1)  # wh padding\n",
    "    else:\n",
    "        gain = ratio_pad[0][0]\n",
    "        pad = ratio_pad[1]\n",
    "\n",
    "    if padding:\n",
    "        boxes[..., [0, 2]] -= pad[0]  # x padding\n",
    "        boxes[..., [1, 3]] -= pad[1]  # y padding\n",
    "    boxes[..., :4] /= gain\n",
    "    return clip_boxes(boxes, img0_shape)"
   ]
  },
  {
   "cell_type": "code",
   "execution_count": null,
   "metadata": {},
   "outputs": [],
   "source": []
  },
  {
   "cell_type": "code",
   "execution_count": null,
   "metadata": {},
   "outputs": [],
   "source": []
  },
  {
   "cell_type": "code",
   "execution_count": null,
   "metadata": {},
   "outputs": [],
   "source": []
  },
  {
   "cell_type": "code",
   "execution_count": null,
   "metadata": {},
   "outputs": [],
   "source": []
  },
  {
   "cell_type": "code",
   "execution_count": null,
   "metadata": {},
   "outputs": [],
   "source": []
  },
  {
   "cell_type": "code",
   "execution_count": null,
   "metadata": {},
   "outputs": [],
   "source": []
  }
 ],
 "metadata": {
  "kernelspec": {
   "display_name": "venv",
   "language": "python",
   "name": "python3"
  },
  "language_info": {
   "codemirror_mode": {
    "name": "ipython",
    "version": 3
   },
   "file_extension": ".py",
   "mimetype": "text/x-python",
   "name": "python",
   "nbconvert_exporter": "python",
   "pygments_lexer": "ipython3",
   "version": "3.10.12"
  }
 },
 "nbformat": 4,
 "nbformat_minor": 2
}
