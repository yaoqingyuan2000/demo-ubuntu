{
 "cells": [
  {
   "cell_type": "code",
   "execution_count": 1,
   "metadata": {},
   "outputs": [],
   "source": [
    "import math\n",
    "from pathlib import Path\n",
    "import numpy as np \n",
    "import matplotlib.pyplot as plt\n",
    "import cv2 as cv\n",
    "import torch\n",
    "import torch.nn as nn\n",
    "import torch.nn.functional as F\n"
   ]
  },
  {
   "cell_type": "code",
   "execution_count": 2,
   "metadata": {},
   "outputs": [
    {
     "data": {
      "text/plain": [
       "False"
      ]
     },
     "execution_count": 2,
     "metadata": {},
     "output_type": "execute_result"
    }
   ],
   "source": [
    "torch.cuda.is_available()"
   ]
  },
  {
   "cell_type": "code",
   "execution_count": 3,
   "metadata": {},
   "outputs": [
    {
     "name": "stdout",
     "output_type": "stream",
     "text": [
      "tensor([[[ True,  True,  True,  True,  True,  True,  True,  True],\n",
      "         [ True,  True,  True,  True,  True,  True,  True,  True],\n",
      "         [ True,  True,  True,  True,  True,  True,  True,  True],\n",
      "         [False, False, False, False, False, False, False, False]],\n",
      "\n",
      "        [[ True,  True,  True,  True,  True,  True,  True,  True],\n",
      "         [ True,  True,  True,  True,  True,  True,  True,  True],\n",
      "         [ True,  True,  True,  True,  True,  True,  True,  True],\n",
      "         [ True,  True,  True,  True,  True,  True,  True,  True]]])\n"
     ]
    }
   ],
   "source": [
    "gt_mask = torch.ones((2, 4))\n",
    "gt_mask[0, 3] = 0\n",
    "gt_mask = gt_mask.unsqueeze(-1)\n",
    "gt_mask = gt_mask.expand(-1, -1, 8).bool()\n",
    "print(gt_mask)"
   ]
  },
  {
   "cell_type": "code",
   "execution_count": 4,
   "metadata": {},
   "outputs": [
    {
     "name": "stdout",
     "output_type": "stream",
     "text": [
      "tensor([[[10.,  1.,  2.,  1.,  1.,  1.,  1., 10.],\n",
      "         [ 3.,  4.,  5.,  1.,  1.,  1.,  1.,  1.],\n",
      "         [ 7.,  8.,  9.,  1.,  1.,  1.,  1.,  1.],\n",
      "         [ 1.,  4.,  7.,  1.,  1.,  1.,  1.,  1.]],\n",
      "\n",
      "        [[10.,  1.,  2.,  1.,  1.,  1.,  1., 10.],\n",
      "         [ 0.,  4.,  5.,  1.,  1.,  1.,  1.,  1.],\n",
      "         [ 7.,  0.,  0.,  1.,  1.,  9.,  1.,  1.],\n",
      "         [ 1.,  4.,  7.,  1.,  1.,  1.,  1.,  1.]]])\n",
      "tensor([[[10., 10.,  2.],\n",
      "         [ 5.,  4.,  3.],\n",
      "         [ 9.,  8.,  7.],\n",
      "         [ 7.,  4.,  1.]],\n",
      "\n",
      "        [[10., 10.,  2.],\n",
      "         [ 5.,  4.,  1.],\n",
      "         [ 9.,  7.,  1.],\n",
      "         [ 7.,  4.,  1.]]])\n",
      "tensor([[[7, 0, 2],\n",
      "         [2, 1, 0],\n",
      "         [2, 1, 0],\n",
      "         [2, 1, 7]],\n",
      "\n",
      "        [[7, 0, 2],\n",
      "         [2, 1, 7],\n",
      "         [5, 0, 6],\n",
      "         [2, 1, 7]]])\n"
     ]
    }
   ],
   "source": [
    "align_metric=torch.tensor([[[10,1,2,1,1,1,1,10],\n",
    "                            [3,4,5,1,1,1,1,1],\n",
    "                            [7,8,9,1,1,1,1,1],\n",
    "                            [1,4,7,1,1,1,1,1]],\n",
    "\n",
    "                            [[10,1,2,1,1,1,1,10],\n",
    "                            [0,4,5,1,1,1,1,1],\n",
    "                            [7,0,0,1,1,9,1,1],\n",
    "                            [1,4,7,1,1,1,1,1]]],dtype=torch.float32)\n",
    "\n",
    "topk = torch.topk(align_metric, k=3, dim=-1, largest=True)\n",
    "print(align_metric)\n",
    "print(topk[0])\n",
    "print(topk[1])"
   ]
  },
  {
   "cell_type": "code",
   "execution_count": 5,
   "metadata": {},
   "outputs": [
    {
     "name": "stdout",
     "output_type": "stream",
     "text": [
      "tensor([[[ True,  True,  True],\n",
      "         [ True,  True,  True],\n",
      "         [ True,  True,  True],\n",
      "         [False, False, False]],\n",
      "\n",
      "        [[ True,  True,  True],\n",
      "         [ True,  True,  True],\n",
      "         [ True,  True,  True],\n",
      "         [ True,  True,  True]]])\n",
      "tensor([[[7, 0, 2],\n",
      "         [2, 1, 0],\n",
      "         [2, 1, 0],\n",
      "         [0, 0, 0]],\n",
      "\n",
      "        [[7, 0, 2],\n",
      "         [2, 1, 7],\n",
      "         [5, 0, 6],\n",
      "         [2, 1, 7]]])\n"
     ]
    }
   ],
   "source": [
    "topk_mask = torch.ones((2, 4, 1))\n",
    "topk_mask[0, 3] = 0\n",
    "topk_mask = topk_mask.expand(-1, -1, 3).bool()\n",
    "print(topk_mask)\n",
    "\n",
    "topk_idxs = topk[1]\n",
    "topk_idxs.masked_fill_(~topk_mask, 0)\n",
    "print(topk_idxs)\n",
    "\n"
   ]
  },
  {
   "cell_type": "code",
   "execution_count": 6,
   "metadata": {},
   "outputs": [
    {
     "name": "stdout",
     "output_type": "stream",
     "text": [
      "tensor([[[1, 0, 1, 0, 0, 0, 0, 1],\n",
      "         [1, 1, 1, 0, 0, 0, 0, 0],\n",
      "         [1, 1, 1, 0, 0, 0, 0, 0],\n",
      "         [0, 0, 0, 0, 0, 0, 0, 0]],\n",
      "\n",
      "        [[1, 0, 1, 0, 0, 0, 0, 1],\n",
      "         [0, 1, 1, 0, 0, 0, 0, 1],\n",
      "         [1, 0, 0, 0, 0, 1, 1, 0],\n",
      "         [0, 1, 1, 0, 0, 0, 0, 1]]], dtype=torch.int8)\n"
     ]
    }
   ],
   "source": [
    "count_tensor = torch.zeros(align_metric.shape, dtype=torch.int8, device=topk_idxs.device)\n",
    "ones = torch.ones_like(topk_idxs[:, :, :1], dtype=torch.int8, device=topk_idxs.device)\n",
    "for k in range(3):\n",
    "    count_tensor.scatter_add_(-1, topk_idxs[:, :, k:k + 1], ones)\n",
    "count_tensor.masked_fill_(count_tensor > 1, 0)\n",
    "print(count_tensor)"
   ]
  },
  {
   "cell_type": "code",
   "execution_count": 7,
   "metadata": {},
   "outputs": [
    {
     "data": {
      "text/plain": [
       "tensor([[[1, 0, 1, 0, 0, 0, 0, 1],\n",
       "         [1, 1, 1, 0, 0, 0, 0, 0],\n",
       "         [1, 1, 1, 0, 0, 0, 0, 0],\n",
       "         [0, 0, 0, 0, 0, 0, 0, 0]],\n",
       "\n",
       "        [[1, 0, 1, 0, 0, 0, 0, 1],\n",
       "         [0, 1, 1, 0, 0, 0, 0, 1],\n",
       "         [1, 0, 0, 0, 0, 1, 1, 0],\n",
       "         [0, 1, 1, 0, 0, 0, 0, 1]]], dtype=torch.int8)"
      ]
     },
     "execution_count": 7,
     "metadata": {},
     "output_type": "execute_result"
    }
   ],
   "source": [
    "mask_pos = gt_mask * count_tensor\n",
    "mask_pos"
   ]
  },
  {
   "cell_type": "code",
   "execution_count": 8,
   "metadata": {},
   "outputs": [
    {
     "data": {
      "text/plain": [
       "tensor([[3, 2, 3, 0, 0, 0, 0, 1],\n",
       "        [2, 2, 3, 0, 0, 1, 1, 3]])"
      ]
     },
     "execution_count": 8,
     "metadata": {},
     "output_type": "execute_result"
    }
   ],
   "source": [
    "fg_mask = mask_pos.sum(-2)\n",
    "fg_mask"
   ]
  },
  {
   "cell_type": "code",
   "execution_count": 9,
   "metadata": {},
   "outputs": [
    {
     "data": {
      "text/plain": [
       "tensor([[[ True,  True,  True, False, False, False, False, False],\n",
       "         [ True,  True,  True, False, False, False, False, False],\n",
       "         [ True,  True,  True, False, False, False, False, False],\n",
       "         [ True,  True,  True, False, False, False, False, False]],\n",
       "\n",
       "        [[ True,  True,  True, False, False, False, False,  True],\n",
       "         [ True,  True,  True, False, False, False, False,  True],\n",
       "         [ True,  True,  True, False, False, False, False,  True],\n",
       "         [ True,  True,  True, False, False, False, False,  True]]])"
      ]
     },
     "execution_count": 9,
     "metadata": {},
     "output_type": "execute_result"
    }
   ],
   "source": [
    "mask_multi_gts = (fg_mask.unsqueeze(1) > 1).expand(-1, 4, -1)\n",
    "mask_multi_gts"
   ]
  },
  {
   "cell_type": "code",
   "execution_count": 10,
   "metadata": {},
   "outputs": [
    {
     "data": {
      "text/plain": [
       "tensor([[[0.2237, 0.3490, 0.5868, 0.7290, 0.9724, 0.9625, 0.5909, 0.9234],\n",
       "         [0.9969, 0.5949, 0.9107, 0.0559, 0.5272, 0.0821, 0.2836, 0.2555],\n",
       "         [0.3025, 0.1694, 0.7651, 0.2454, 0.5842, 0.3755, 0.4112, 0.2347],\n",
       "         [0.4258, 0.8002, 0.2640, 0.5956, 0.9494, 0.5672, 0.2967, 0.3771]],\n",
       "\n",
       "        [[0.5748, 0.2577, 0.0608, 0.3705, 0.9845, 0.3429, 0.8463, 0.6634],\n",
       "         [0.9679, 0.5556, 0.1051, 0.8677, 0.3111, 0.4981, 0.8302, 0.7523],\n",
       "         [0.7289, 0.1549, 0.1407, 0.3572, 0.2074, 0.6894, 0.9098, 0.0973],\n",
       "         [0.8319, 0.5807, 0.5418, 0.9818, 0.1733, 0.5279, 0.9445, 0.1551]]])"
      ]
     },
     "execution_count": 10,
     "metadata": {},
     "output_type": "execute_result"
    }
   ],
   "source": [
    "overlaps = torch.rand((2, 4, 8))\n",
    "overlaps"
   ]
  },
  {
   "cell_type": "code",
   "execution_count": 11,
   "metadata": {},
   "outputs": [
    {
     "data": {
      "text/plain": [
       "tensor([[1, 3, 1, 0, 0, 0, 0, 0],\n",
       "        [1, 3, 3, 3, 0, 2, 3, 1]])"
      ]
     },
     "execution_count": 11,
     "metadata": {},
     "output_type": "execute_result"
    }
   ],
   "source": [
    "max_overlaps_idx = overlaps.argmax(1)  # (b, h*w)\n",
    "max_overlaps_idx"
   ]
  },
  {
   "cell_type": "code",
   "execution_count": 12,
   "metadata": {},
   "outputs": [
    {
     "data": {
      "text/plain": [
       "tensor([[[0, 0, 0, 0, 0, 0, 0, 0],\n",
       "         [0, 0, 0, 0, 0, 0, 0, 0],\n",
       "         [0, 0, 0, 0, 0, 0, 0, 0],\n",
       "         [0, 0, 0, 0, 0, 0, 0, 0]],\n",
       "\n",
       "        [[0, 0, 0, 0, 0, 0, 0, 0],\n",
       "         [0, 0, 0, 0, 0, 0, 0, 0],\n",
       "         [0, 0, 0, 0, 0, 0, 0, 0],\n",
       "         [0, 0, 0, 0, 0, 0, 0, 0]]], dtype=torch.int8)"
      ]
     },
     "execution_count": 12,
     "metadata": {},
     "output_type": "execute_result"
    }
   ],
   "source": [
    "is_max_overlaps = torch.zeros(mask_pos.shape, dtype=mask_pos.dtype, device=mask_pos.device)\n",
    "is_max_overlaps"
   ]
  },
  {
   "cell_type": "code",
   "execution_count": 13,
   "metadata": {},
   "outputs": [
    {
     "data": {
      "text/plain": [
       "tensor([[[1, 3, 1, 0, 0, 0, 0, 0]],\n",
       "\n",
       "        [[1, 3, 3, 3, 0, 2, 3, 1]]])"
      ]
     },
     "execution_count": 13,
     "metadata": {},
     "output_type": "execute_result"
    }
   ],
   "source": [
    "max_overlaps_idx.unsqueeze(1)"
   ]
  },
  {
   "cell_type": "code",
   "execution_count": 14,
   "metadata": {},
   "outputs": [
    {
     "data": {
      "text/plain": [
       "tensor([[[0, 0, 0, 1, 1, 1, 1, 1],\n",
       "         [1, 0, 1, 0, 0, 0, 0, 0],\n",
       "         [0, 0, 0, 0, 0, 0, 0, 0],\n",
       "         [0, 1, 0, 0, 0, 0, 0, 0]],\n",
       "\n",
       "        [[0, 0, 0, 0, 1, 0, 0, 0],\n",
       "         [1, 0, 0, 0, 0, 0, 0, 1],\n",
       "         [0, 0, 0, 0, 0, 1, 0, 0],\n",
       "         [0, 1, 1, 1, 0, 0, 1, 0]]], dtype=torch.int8)"
      ]
     },
     "execution_count": 14,
     "metadata": {},
     "output_type": "execute_result"
    }
   ],
   "source": [
    "is_max_overlaps.scatter_(1, max_overlaps_idx.unsqueeze(1), 1)"
   ]
  },
  {
   "cell_type": "code",
   "execution_count": 15,
   "metadata": {},
   "outputs": [
    {
     "data": {
      "text/plain": [
       "tensor([[[ True,  True,  True, False, False, False, False, False],\n",
       "         [ True,  True,  True, False, False, False, False, False],\n",
       "         [ True,  True,  True, False, False, False, False, False],\n",
       "         [ True,  True,  True, False, False, False, False, False]],\n",
       "\n",
       "        [[ True,  True,  True, False, False, False, False,  True],\n",
       "         [ True,  True,  True, False, False, False, False,  True],\n",
       "         [ True,  True,  True, False, False, False, False,  True],\n",
       "         [ True,  True,  True, False, False, False, False,  True]]])"
      ]
     },
     "execution_count": 15,
     "metadata": {},
     "output_type": "execute_result"
    }
   ],
   "source": [
    "mask_multi_gts"
   ]
  },
  {
   "cell_type": "code",
   "execution_count": 16,
   "metadata": {},
   "outputs": [
    {
     "data": {
      "text/plain": [
       "tensor([[[1, 0, 1, 0, 0, 0, 0, 1],\n",
       "         [1, 1, 1, 0, 0, 0, 0, 0],\n",
       "         [1, 1, 1, 0, 0, 0, 0, 0],\n",
       "         [0, 0, 0, 0, 0, 0, 0, 0]],\n",
       "\n",
       "        [[1, 0, 1, 0, 0, 0, 0, 1],\n",
       "         [0, 1, 1, 0, 0, 0, 0, 1],\n",
       "         [1, 0, 0, 0, 0, 1, 1, 0],\n",
       "         [0, 1, 1, 0, 0, 0, 0, 1]]], dtype=torch.int8)"
      ]
     },
     "execution_count": 16,
     "metadata": {},
     "output_type": "execute_result"
    }
   ],
   "source": [
    "mask_pos"
   ]
  },
  {
   "cell_type": "code",
   "execution_count": 17,
   "metadata": {},
   "outputs": [
    {
     "data": {
      "text/plain": [
       "tensor([[[0., 0., 0., 0., 0., 0., 0., 1.],\n",
       "         [1., 0., 1., 0., 0., 0., 0., 0.],\n",
       "         [0., 0., 0., 0., 0., 0., 0., 0.],\n",
       "         [0., 1., 0., 0., 0., 0., 0., 0.]],\n",
       "\n",
       "        [[0., 0., 0., 0., 0., 0., 0., 0.],\n",
       "         [1., 0., 0., 0., 0., 0., 0., 1.],\n",
       "         [0., 0., 0., 0., 0., 1., 1., 0.],\n",
       "         [0., 1., 1., 0., 0., 0., 0., 0.]]])"
      ]
     },
     "execution_count": 17,
     "metadata": {},
     "output_type": "execute_result"
    }
   ],
   "source": [
    "mask_pos = torch.where(mask_multi_gts, is_max_overlaps, mask_pos).float()\n",
    "mask_pos"
   ]
  },
  {
   "cell_type": "code",
   "execution_count": 18,
   "metadata": {},
   "outputs": [
    {
     "data": {
      "text/plain": [
       "tensor([[1., 1., 1., 0., 0., 0., 0., 1.],\n",
       "        [1., 1., 1., 0., 0., 1., 1., 1.]])"
      ]
     },
     "execution_count": 18,
     "metadata": {},
     "output_type": "execute_result"
    }
   ],
   "source": [
    "fg_mask = mask_pos.sum(-2)\n",
    "fg_mask"
   ]
  },
  {
   "cell_type": "code",
   "execution_count": 19,
   "metadata": {},
   "outputs": [
    {
     "data": {
      "text/plain": [
       "tensor([[1, 3, 1, 0, 0, 0, 0, 0],\n",
       "        [1, 3, 3, 0, 0, 2, 2, 1]])"
      ]
     },
     "execution_count": 19,
     "metadata": {},
     "output_type": "execute_result"
    }
   ],
   "source": [
    "target_gt_idx = mask_pos.argmax(-2)\n",
    "target_gt_idx"
   ]
  },
  {
   "cell_type": "code",
   "execution_count": 20,
   "metadata": {},
   "outputs": [
    {
     "data": {
      "text/plain": [
       "tensor([[[8],\n",
       "         [4],\n",
       "         [8],\n",
       "         [0]],\n",
       "\n",
       "        [[7],\n",
       "         [9],\n",
       "         [8],\n",
       "         [6]]])"
      ]
     },
     "execution_count": 20,
     "metadata": {},
     "output_type": "execute_result"
    }
   ],
   "source": [
    "gt_labels = torch.randint(0, 16, (2, 4, 1))\n",
    "gt_labels[0, 3, 0] = 0\n",
    "gt_labels"
   ]
  },
  {
   "cell_type": "code",
   "execution_count": 21,
   "metadata": {},
   "outputs": [
    {
     "data": {
      "text/plain": [
       "tensor([[0],\n",
       "        [1]])"
      ]
     },
     "execution_count": 21,
     "metadata": {},
     "output_type": "execute_result"
    }
   ],
   "source": [
    "# Assigned target labels, (b, 1)\n",
    "batch_ind = torch.arange(end=2, dtype=torch.int64, device=gt_labels.device)[..., None]\n",
    "batch_ind"
   ]
  },
  {
   "cell_type": "code",
   "execution_count": 22,
   "metadata": {},
   "outputs": [
    {
     "data": {
      "text/plain": [
       "tensor([[1, 3, 1, 0, 0, 0, 0, 0],\n",
       "        [5, 7, 7, 4, 4, 6, 6, 5]])"
      ]
     },
     "execution_count": 22,
     "metadata": {},
     "output_type": "execute_result"
    }
   ],
   "source": [
    "target_gt_idx = target_gt_idx + batch_ind * 4\n",
    "target_gt_idx"
   ]
  },
  {
   "cell_type": "code",
   "execution_count": 23,
   "metadata": {},
   "outputs": [
    {
     "data": {
      "text/plain": [
       "tensor([8, 4, 8, 0, 7, 9, 8, 6])"
      ]
     },
     "execution_count": 23,
     "metadata": {},
     "output_type": "execute_result"
    }
   ],
   "source": [
    "gt_labels.long().flatten()"
   ]
  },
  {
   "cell_type": "code",
   "execution_count": 24,
   "metadata": {},
   "outputs": [
    {
     "data": {
      "text/plain": [
       "tensor([[4, 0, 4, 8, 8, 8, 8, 8],\n",
       "        [9, 6, 6, 7, 7, 8, 8, 9]])"
      ]
     },
     "execution_count": 24,
     "metadata": {},
     "output_type": "execute_result"
    }
   ],
   "source": [
    "target_labels = gt_labels.long().flatten()[target_gt_idx]\n",
    "target_labels"
   ]
  },
  {
   "cell_type": "code",
   "execution_count": 25,
   "metadata": {},
   "outputs": [
    {
     "data": {
      "text/plain": [
       "tensor([[[180,  35,  14, 166],\n",
       "         [201,  83, 318,  32],\n",
       "         [255, 195, 163, 189],\n",
       "         [ 43, 122, 100, 113]],\n",
       "\n",
       "        [[ 52, 280, 317,  27],\n",
       "         [111,  97, 249, 209],\n",
       "         [134,   8,  89, 211],\n",
       "         [159,  17,  21, 103]]])"
      ]
     },
     "execution_count": 25,
     "metadata": {},
     "output_type": "execute_result"
    }
   ],
   "source": [
    "gt_bboxes = torch.randint(0, 320, (2, 4, 4))\n",
    "gt_bboxes"
   ]
  },
  {
   "cell_type": "code",
   "execution_count": 26,
   "metadata": {},
   "outputs": [
    {
     "data": {
      "text/plain": [
       "tensor([[[201,  83, 318,  32],\n",
       "         [ 43, 122, 100, 113],\n",
       "         [201,  83, 318,  32],\n",
       "         [180,  35,  14, 166],\n",
       "         [180,  35,  14, 166],\n",
       "         [180,  35,  14, 166],\n",
       "         [180,  35,  14, 166],\n",
       "         [180,  35,  14, 166]],\n",
       "\n",
       "        [[111,  97, 249, 209],\n",
       "         [159,  17,  21, 103],\n",
       "         [159,  17,  21, 103],\n",
       "         [ 52, 280, 317,  27],\n",
       "         [ 52, 280, 317,  27],\n",
       "         [134,   8,  89, 211],\n",
       "         [134,   8,  89, 211],\n",
       "         [111,  97, 249, 209]]])"
      ]
     },
     "execution_count": 26,
     "metadata": {},
     "output_type": "execute_result"
    }
   ],
   "source": [
    "target_bboxes = gt_bboxes.view(-1, 4)[target_gt_idx]\n",
    "target_bboxes"
   ]
  },
  {
   "cell_type": "code",
   "execution_count": 27,
   "metadata": {},
   "outputs": [
    {
     "data": {
      "text/plain": [
       "tensor([[4, 0, 4, 8, 8, 8, 8, 8],\n",
       "        [9, 6, 6, 7, 7, 8, 8, 9]])"
      ]
     },
     "execution_count": 27,
     "metadata": {},
     "output_type": "execute_result"
    }
   ],
   "source": [
    "target_labels.clamp_(0)\n",
    "target_labels"
   ]
  },
  {
   "cell_type": "code",
   "execution_count": 28,
   "metadata": {},
   "outputs": [
    {
     "data": {
      "text/plain": [
       "tensor([[[0, 0, 0, 0, 0, 0, 0, 0, 0, 0, 0, 0, 0, 0, 0, 0],\n",
       "         [0, 0, 0, 0, 0, 0, 0, 0, 0, 0, 0, 0, 0, 0, 0, 0],\n",
       "         [0, 0, 0, 0, 0, 0, 0, 0, 0, 0, 0, 0, 0, 0, 0, 0],\n",
       "         [0, 0, 0, 0, 0, 0, 0, 0, 0, 0, 0, 0, 0, 0, 0, 0],\n",
       "         [0, 0, 0, 0, 0, 0, 0, 0, 0, 0, 0, 0, 0, 0, 0, 0],\n",
       "         [0, 0, 0, 0, 0, 0, 0, 0, 0, 0, 0, 0, 0, 0, 0, 0],\n",
       "         [0, 0, 0, 0, 0, 0, 0, 0, 0, 0, 0, 0, 0, 0, 0, 0],\n",
       "         [0, 0, 0, 0, 0, 0, 0, 0, 0, 0, 0, 0, 0, 0, 0, 0]],\n",
       "\n",
       "        [[0, 0, 0, 0, 0, 0, 0, 0, 0, 0, 0, 0, 0, 0, 0, 0],\n",
       "         [0, 0, 0, 0, 0, 0, 0, 0, 0, 0, 0, 0, 0, 0, 0, 0],\n",
       "         [0, 0, 0, 0, 0, 0, 0, 0, 0, 0, 0, 0, 0, 0, 0, 0],\n",
       "         [0, 0, 0, 0, 0, 0, 0, 0, 0, 0, 0, 0, 0, 0, 0, 0],\n",
       "         [0, 0, 0, 0, 0, 0, 0, 0, 0, 0, 0, 0, 0, 0, 0, 0],\n",
       "         [0, 0, 0, 0, 0, 0, 0, 0, 0, 0, 0, 0, 0, 0, 0, 0],\n",
       "         [0, 0, 0, 0, 0, 0, 0, 0, 0, 0, 0, 0, 0, 0, 0, 0],\n",
       "         [0, 0, 0, 0, 0, 0, 0, 0, 0, 0, 0, 0, 0, 0, 0, 0]]])"
      ]
     },
     "execution_count": 28,
     "metadata": {},
     "output_type": "execute_result"
    }
   ],
   "source": [
    "# 10x faster than F.one_hot()\n",
    "target_scores = torch.zeros((target_labels.shape[0], target_labels.shape[1], 16),\n",
    "                            dtype=torch.int64,\n",
    "                            device=target_labels.device)  # (b, h*w, 80)\n",
    "\n",
    "target_scores"
   ]
  },
  {
   "cell_type": "code",
   "execution_count": 29,
   "metadata": {},
   "outputs": [
    {
     "data": {
      "text/plain": [
       "tensor([[[0, 0, 0, 0, 1, 0, 0, 0, 0, 0, 0, 0, 0, 0, 0, 0],\n",
       "         [1, 0, 0, 0, 0, 0, 0, 0, 0, 0, 0, 0, 0, 0, 0, 0],\n",
       "         [0, 0, 0, 0, 1, 0, 0, 0, 0, 0, 0, 0, 0, 0, 0, 0],\n",
       "         [0, 0, 0, 0, 0, 0, 0, 0, 1, 0, 0, 0, 0, 0, 0, 0],\n",
       "         [0, 0, 0, 0, 0, 0, 0, 0, 1, 0, 0, 0, 0, 0, 0, 0],\n",
       "         [0, 0, 0, 0, 0, 0, 0, 0, 1, 0, 0, 0, 0, 0, 0, 0],\n",
       "         [0, 0, 0, 0, 0, 0, 0, 0, 1, 0, 0, 0, 0, 0, 0, 0],\n",
       "         [0, 0, 0, 0, 0, 0, 0, 0, 1, 0, 0, 0, 0, 0, 0, 0]],\n",
       "\n",
       "        [[0, 0, 0, 0, 0, 0, 0, 0, 0, 1, 0, 0, 0, 0, 0, 0],\n",
       "         [0, 0, 0, 0, 0, 0, 1, 0, 0, 0, 0, 0, 0, 0, 0, 0],\n",
       "         [0, 0, 0, 0, 0, 0, 1, 0, 0, 0, 0, 0, 0, 0, 0, 0],\n",
       "         [0, 0, 0, 0, 0, 0, 0, 1, 0, 0, 0, 0, 0, 0, 0, 0],\n",
       "         [0, 0, 0, 0, 0, 0, 0, 1, 0, 0, 0, 0, 0, 0, 0, 0],\n",
       "         [0, 0, 0, 0, 0, 0, 0, 0, 1, 0, 0, 0, 0, 0, 0, 0],\n",
       "         [0, 0, 0, 0, 0, 0, 0, 0, 1, 0, 0, 0, 0, 0, 0, 0],\n",
       "         [0, 0, 0, 0, 0, 0, 0, 0, 0, 1, 0, 0, 0, 0, 0, 0]]])"
      ]
     },
     "execution_count": 29,
     "metadata": {},
     "output_type": "execute_result"
    }
   ],
   "source": [
    "target_scores.scatter_(2, target_labels.unsqueeze(-1), 1)\n",
    "target_scores"
   ]
  },
  {
   "cell_type": "code",
   "execution_count": 30,
   "metadata": {},
   "outputs": [
    {
     "data": {
      "text/plain": [
       "tensor([[[1., 1., 1., 1., 1., 1., 1., 1., 1., 1., 1., 1., 1., 1., 1., 1.],\n",
       "         [1., 1., 1., 1., 1., 1., 1., 1., 1., 1., 1., 1., 1., 1., 1., 1.],\n",
       "         [1., 1., 1., 1., 1., 1., 1., 1., 1., 1., 1., 1., 1., 1., 1., 1.],\n",
       "         [0., 0., 0., 0., 0., 0., 0., 0., 0., 0., 0., 0., 0., 0., 0., 0.],\n",
       "         [0., 0., 0., 0., 0., 0., 0., 0., 0., 0., 0., 0., 0., 0., 0., 0.],\n",
       "         [0., 0., 0., 0., 0., 0., 0., 0., 0., 0., 0., 0., 0., 0., 0., 0.],\n",
       "         [0., 0., 0., 0., 0., 0., 0., 0., 0., 0., 0., 0., 0., 0., 0., 0.],\n",
       "         [1., 1., 1., 1., 1., 1., 1., 1., 1., 1., 1., 1., 1., 1., 1., 1.]],\n",
       "\n",
       "        [[1., 1., 1., 1., 1., 1., 1., 1., 1., 1., 1., 1., 1., 1., 1., 1.],\n",
       "         [1., 1., 1., 1., 1., 1., 1., 1., 1., 1., 1., 1., 1., 1., 1., 1.],\n",
       "         [1., 1., 1., 1., 1., 1., 1., 1., 1., 1., 1., 1., 1., 1., 1., 1.],\n",
       "         [0., 0., 0., 0., 0., 0., 0., 0., 0., 0., 0., 0., 0., 0., 0., 0.],\n",
       "         [0., 0., 0., 0., 0., 0., 0., 0., 0., 0., 0., 0., 0., 0., 0., 0.],\n",
       "         [1., 1., 1., 1., 1., 1., 1., 1., 1., 1., 1., 1., 1., 1., 1., 1.],\n",
       "         [1., 1., 1., 1., 1., 1., 1., 1., 1., 1., 1., 1., 1., 1., 1., 1.],\n",
       "         [1., 1., 1., 1., 1., 1., 1., 1., 1., 1., 1., 1., 1., 1., 1., 1.]]])"
      ]
     },
     "execution_count": 30,
     "metadata": {},
     "output_type": "execute_result"
    }
   ],
   "source": [
    "fg_scores_mask = fg_mask[:, :, None].repeat(1, 1, 16)\n",
    "fg_scores_mask"
   ]
  },
  {
   "cell_type": "code",
   "execution_count": 31,
   "metadata": {},
   "outputs": [
    {
     "data": {
      "text/plain": [
       "tensor([[[0, 0, 0, 0, 1, 0, 0, 0, 0, 0, 0, 0, 0, 0, 0, 0],\n",
       "         [1, 0, 0, 0, 0, 0, 0, 0, 0, 0, 0, 0, 0, 0, 0, 0],\n",
       "         [0, 0, 0, 0, 1, 0, 0, 0, 0, 0, 0, 0, 0, 0, 0, 0],\n",
       "         [0, 0, 0, 0, 0, 0, 0, 0, 0, 0, 0, 0, 0, 0, 0, 0],\n",
       "         [0, 0, 0, 0, 0, 0, 0, 0, 0, 0, 0, 0, 0, 0, 0, 0],\n",
       "         [0, 0, 0, 0, 0, 0, 0, 0, 0, 0, 0, 0, 0, 0, 0, 0],\n",
       "         [0, 0, 0, 0, 0, 0, 0, 0, 0, 0, 0, 0, 0, 0, 0, 0],\n",
       "         [0, 0, 0, 0, 0, 0, 0, 0, 1, 0, 0, 0, 0, 0, 0, 0]],\n",
       "\n",
       "        [[0, 0, 0, 0, 0, 0, 0, 0, 0, 1, 0, 0, 0, 0, 0, 0],\n",
       "         [0, 0, 0, 0, 0, 0, 1, 0, 0, 0, 0, 0, 0, 0, 0, 0],\n",
       "         [0, 0, 0, 0, 0, 0, 1, 0, 0, 0, 0, 0, 0, 0, 0, 0],\n",
       "         [0, 0, 0, 0, 0, 0, 0, 0, 0, 0, 0, 0, 0, 0, 0, 0],\n",
       "         [0, 0, 0, 0, 0, 0, 0, 0, 0, 0, 0, 0, 0, 0, 0, 0],\n",
       "         [0, 0, 0, 0, 0, 0, 0, 0, 1, 0, 0, 0, 0, 0, 0, 0],\n",
       "         [0, 0, 0, 0, 0, 0, 0, 0, 1, 0, 0, 0, 0, 0, 0, 0],\n",
       "         [0, 0, 0, 0, 0, 0, 0, 0, 0, 1, 0, 0, 0, 0, 0, 0]]])"
      ]
     },
     "execution_count": 31,
     "metadata": {},
     "output_type": "execute_result"
    }
   ],
   "source": [
    "target_scores = torch.where(fg_scores_mask > 0, target_scores, 0)\n",
    "target_scores"
   ]
  },
  {
   "cell_type": "code",
   "execution_count": 32,
   "metadata": {},
   "outputs": [
    {
     "data": {
      "text/plain": [
       "torch.Size([2, 8, 16])"
      ]
     },
     "execution_count": 32,
     "metadata": {},
     "output_type": "execute_result"
    }
   ],
   "source": [
    "target_scores.size()"
   ]
  },
  {
   "cell_type": "code",
   "execution_count": null,
   "metadata": {},
   "outputs": [],
   "source": []
  },
  {
   "cell_type": "code",
   "execution_count": 33,
   "metadata": {},
   "outputs": [
    {
     "data": {
      "text/plain": [
       "tensor([[[ 0.,  0.,  0.,  0.,  0.,  0.,  0., 10.],\n",
       "         [ 3.,  0.,  5.,  0.,  0.,  0.,  0.,  0.],\n",
       "         [ 0.,  0.,  0.,  0.,  0.,  0.,  0.,  0.],\n",
       "         [ 0.,  4.,  0.,  0.,  0.,  0.,  0.,  0.]],\n",
       "\n",
       "        [[ 0.,  0.,  0.,  0.,  0.,  0.,  0.,  0.],\n",
       "         [ 0.,  0.,  0.,  0.,  0.,  0.,  0.,  1.],\n",
       "         [ 0.,  0.,  0.,  0.,  0.,  9.,  1.,  0.],\n",
       "         [ 0.,  4.,  7.,  0.,  0.,  0.,  0.,  0.]]])"
      ]
     },
     "execution_count": 33,
     "metadata": {},
     "output_type": "execute_result"
    }
   ],
   "source": [
    "# Normalize\n",
    "align_metric *= mask_pos\n",
    "align_metric"
   ]
  },
  {
   "cell_type": "code",
   "execution_count": 34,
   "metadata": {},
   "outputs": [
    {
     "data": {
      "text/plain": [
       "tensor([[[10.],\n",
       "         [ 5.],\n",
       "         [ 0.],\n",
       "         [ 4.]],\n",
       "\n",
       "        [[ 0.],\n",
       "         [ 1.],\n",
       "         [ 9.],\n",
       "         [ 7.]]])"
      ]
     },
     "execution_count": 34,
     "metadata": {},
     "output_type": "execute_result"
    }
   ],
   "source": [
    "pos_align_metrics = align_metric.amax(axis=-1, keepdim=True)\n",
    "pos_align_metrics"
   ]
  },
  {
   "cell_type": "code",
   "execution_count": 35,
   "metadata": {},
   "outputs": [
    {
     "data": {
      "text/plain": [
       "tensor([[[0.0000, 0.0000, 0.0000, 0.0000, 0.0000, 0.0000, 0.0000, 0.9234],\n",
       "         [0.9969, 0.0000, 0.9107, 0.0000, 0.0000, 0.0000, 0.0000, 0.0000],\n",
       "         [0.0000, 0.0000, 0.0000, 0.0000, 0.0000, 0.0000, 0.0000, 0.0000],\n",
       "         [0.0000, 0.8002, 0.0000, 0.0000, 0.0000, 0.0000, 0.0000, 0.0000]],\n",
       "\n",
       "        [[0.0000, 0.0000, 0.0000, 0.0000, 0.0000, 0.0000, 0.0000, 0.0000],\n",
       "         [0.9679, 0.0000, 0.0000, 0.0000, 0.0000, 0.0000, 0.0000, 0.7523],\n",
       "         [0.0000, 0.0000, 0.0000, 0.0000, 0.0000, 0.6894, 0.9098, 0.0000],\n",
       "         [0.0000, 0.5807, 0.5418, 0.0000, 0.0000, 0.0000, 0.0000, 0.0000]]])"
      ]
     },
     "execution_count": 35,
     "metadata": {},
     "output_type": "execute_result"
    }
   ],
   "source": [
    "overlaps * mask_pos"
   ]
  },
  {
   "cell_type": "code",
   "execution_count": 36,
   "metadata": {},
   "outputs": [
    {
     "data": {
      "text/plain": [
       "tensor([[[0.9234],\n",
       "         [0.9969],\n",
       "         [0.0000],\n",
       "         [0.8002]],\n",
       "\n",
       "        [[0.0000],\n",
       "         [0.9679],\n",
       "         [0.9098],\n",
       "         [0.5807]]])"
      ]
     },
     "execution_count": 36,
     "metadata": {},
     "output_type": "execute_result"
    }
   ],
   "source": [
    "pos_overlaps = (overlaps * mask_pos).amax(axis=-1, keepdim=True)\n",
    "pos_overlaps"
   ]
  },
  {
   "cell_type": "code",
   "execution_count": 37,
   "metadata": {},
   "outputs": [
    {
     "data": {
      "text/plain": [
       "tensor([[[0.0000, 0.0000, 0.0000, 0.0000, 0.0000, 0.0000, 0.0000, 0.9234],\n",
       "         [0.5982, 0.0000, 0.9969, 0.0000, 0.0000, 0.0000, 0.0000, 0.0000],\n",
       "         [0.0000, 0.0000, 0.0000, 0.0000, 0.0000, 0.0000, 0.0000, 0.0000],\n",
       "         [0.0000, 0.8002, 0.0000, 0.0000, 0.0000, 0.0000, 0.0000, 0.0000]],\n",
       "\n",
       "        [[0.0000, 0.0000, 0.0000, 0.0000, 0.0000, 0.0000, 0.0000, 0.0000],\n",
       "         [0.0000, 0.0000, 0.0000, 0.0000, 0.0000, 0.0000, 0.0000, 0.9679],\n",
       "         [0.0000, 0.0000, 0.0000, 0.0000, 0.0000, 0.9098, 0.1011, 0.0000],\n",
       "         [0.0000, 0.3318, 0.5807, 0.0000, 0.0000, 0.0000, 0.0000, 0.0000]]])"
      ]
     },
     "execution_count": 37,
     "metadata": {},
     "output_type": "execute_result"
    }
   ],
   "source": [
    "align_metric * pos_overlaps / (pos_align_metrics + 1e-9)"
   ]
  },
  {
   "cell_type": "code",
   "execution_count": 38,
   "metadata": {},
   "outputs": [
    {
     "data": {
      "text/plain": [
       "tensor([[[0.5982],\n",
       "         [0.8002],\n",
       "         [0.9969],\n",
       "         [0.0000],\n",
       "         [0.0000],\n",
       "         [0.0000],\n",
       "         [0.0000],\n",
       "         [0.9234]],\n",
       "\n",
       "        [[0.0000],\n",
       "         [0.3318],\n",
       "         [0.5807],\n",
       "         [0.0000],\n",
       "         [0.0000],\n",
       "         [0.9098],\n",
       "         [0.1011],\n",
       "         [0.9679]]])"
      ]
     },
     "execution_count": 38,
     "metadata": {},
     "output_type": "execute_result"
    }
   ],
   "source": [
    "norm_align_metric = (align_metric * pos_overlaps / (pos_align_metrics + 1e-9)).amax(-2).unsqueeze(-1)\n",
    "norm_align_metric"
   ]
  },
  {
   "cell_type": "code",
   "execution_count": 39,
   "metadata": {},
   "outputs": [],
   "source": [
    "\n",
    "target_scores = target_scores * norm_align_metric"
   ]
  },
  {
   "cell_type": "code",
   "execution_count": 40,
   "metadata": {},
   "outputs": [
    {
     "data": {
      "text/plain": [
       "tensor([[0.0000, 0.0000, 0.0000, 0.0000, 0.5982, 0.0000, 0.0000, 0.0000, 0.0000,\n",
       "         0.0000, 0.0000, 0.0000, 0.0000, 0.0000, 0.0000, 0.0000],\n",
       "        [0.8002, 0.0000, 0.0000, 0.0000, 0.0000, 0.0000, 0.0000, 0.0000, 0.0000,\n",
       "         0.0000, 0.0000, 0.0000, 0.0000, 0.0000, 0.0000, 0.0000],\n",
       "        [0.0000, 0.0000, 0.0000, 0.0000, 0.9969, 0.0000, 0.0000, 0.0000, 0.0000,\n",
       "         0.0000, 0.0000, 0.0000, 0.0000, 0.0000, 0.0000, 0.0000],\n",
       "        [0.0000, 0.0000, 0.0000, 0.0000, 0.0000, 0.0000, 0.0000, 0.0000, 0.0000,\n",
       "         0.0000, 0.0000, 0.0000, 0.0000, 0.0000, 0.0000, 0.0000],\n",
       "        [0.0000, 0.0000, 0.0000, 0.0000, 0.0000, 0.0000, 0.0000, 0.0000, 0.0000,\n",
       "         0.0000, 0.0000, 0.0000, 0.0000, 0.0000, 0.0000, 0.0000],\n",
       "        [0.0000, 0.0000, 0.0000, 0.0000, 0.0000, 0.0000, 0.0000, 0.0000, 0.0000,\n",
       "         0.0000, 0.0000, 0.0000, 0.0000, 0.0000, 0.0000, 0.0000],\n",
       "        [0.0000, 0.0000, 0.0000, 0.0000, 0.0000, 0.0000, 0.0000, 0.0000, 0.0000,\n",
       "         0.0000, 0.0000, 0.0000, 0.0000, 0.0000, 0.0000, 0.0000],\n",
       "        [0.0000, 0.0000, 0.0000, 0.0000, 0.0000, 0.0000, 0.0000, 0.0000, 0.9234,\n",
       "         0.0000, 0.0000, 0.0000, 0.0000, 0.0000, 0.0000, 0.0000]])"
      ]
     },
     "execution_count": 40,
     "metadata": {},
     "output_type": "execute_result"
    }
   ],
   "source": [
    "target_scores[0]"
   ]
  },
  {
   "cell_type": "code",
   "execution_count": 41,
   "metadata": {},
   "outputs": [
    {
     "data": {
      "text/plain": [
       "(torch.Size([2, 8, 4]), torch.Size([2, 8, 16]), torch.Size([2, 8]))"
      ]
     },
     "execution_count": 41,
     "metadata": {},
     "output_type": "execute_result"
    }
   ],
   "source": [
    "target_bboxes.size(), target_scores.size(), fg_mask.size()"
   ]
  },
  {
   "cell_type": "code",
   "execution_count": null,
   "metadata": {},
   "outputs": [],
   "source": []
  },
  {
   "cell_type": "code",
   "execution_count": null,
   "metadata": {},
   "outputs": [],
   "source": []
  },
  {
   "cell_type": "code",
   "execution_count": 42,
   "metadata": {},
   "outputs": [
    {
     "data": {
      "text/plain": [
       "tensor([ 8., 16., 32.])"
      ]
     },
     "execution_count": 42,
     "metadata": {},
     "output_type": "execute_result"
    }
   ],
   "source": [
    "batch_size = 2\n",
    "feats = [torch.rand((batch_size, 256, 80, 80)), \n",
    "         torch.rand((batch_size, 512, 40, 40)), \n",
    "         torch.rand((batch_size, 512, 20, 20))]\n",
    "\n",
    "s = 640\n",
    "strides = torch.tensor([s / x.shape[-2] for x in feats])\n",
    "strides"
   ]
  },
  {
   "cell_type": "code",
   "execution_count": 43,
   "metadata": {},
   "outputs": [
    {
     "name": "stdout",
     "output_type": "stream",
     "text": [
      "64 256\n",
      "torch.Size([2, 64, 80, 80]) torch.Size([2, 16, 80, 80])\n",
      "torch.Size([2, 80, 80, 80])\n",
      "torch.Size([2, 64, 40, 40]) torch.Size([2, 16, 40, 40])\n",
      "torch.Size([2, 80, 40, 40])\n",
      "torch.Size([2, 64, 20, 20]) torch.Size([2, 16, 20, 20])\n",
      "torch.Size([2, 80, 20, 20])\n"
     ]
    }
   ],
   "source": [
    "\n",
    "\n",
    "def autopad(k, p=None, d=1):  # kernel, padding, dilation\n",
    "    \"\"\"Pad to 'same' shape outputs.\"\"\"\n",
    "    if d > 1:\n",
    "        k = d * (k - 1) + 1 if isinstance(k, int) else [d * (x - 1) + 1 for x in k]  # actual kernel-size\n",
    "    if p is None:\n",
    "        p = k // 2 if isinstance(k, int) else [x // 2 for x in k]  # auto-pad\n",
    "    return p\n",
    "\n",
    "class Conv(nn.Module):\n",
    "    \"\"\"Standard convolution with args(ch_in, ch_out, kernel, stride, padding, groups, dilation, activation).\"\"\"\n",
    "    default_act = nn.SiLU()  # default activation\n",
    "\n",
    "    def __init__(self, c1, c2, k=1, s=1, p=None, g=1, d=1, act=True):\n",
    "        \"\"\"Initialize Conv layer with given arguments including activation.\"\"\"\n",
    "        super().__init__()\n",
    "        self.conv = nn.Conv2d(c1, c2, k, s, autopad(k, p, d), groups=g, dilation=d, bias=False)\n",
    "        self.bn = nn.BatchNorm2d(c2)\n",
    "        self.act = self.default_act if act is True else act if isinstance(act, nn.Module) else nn.Identity()\n",
    "\n",
    "    def forward(self, x):\n",
    "        \"\"\"Apply convolution, batch normalization and activation to input tensor.\"\"\"\n",
    "        return self.act(self.bn(self.conv(x)))\n",
    "\n",
    "    def forward_fuse(self, x):\n",
    "        \"\"\"Perform transposed convolution of 2D data.\"\"\"\n",
    "        return self.act(self.conv(x))\n",
    "    \n",
    "\n",
    "ch = (256, 512, 512)\n",
    "\n",
    "reg_max = 16 \n",
    "nc = 16\n",
    "\n",
    "c2, c3 = max((16, ch[0] // 4, reg_max * 4)), max(ch[0], min(nc, 100))\n",
    "\n",
    "print(c2, c3)\n",
    "\n",
    "cv2 = nn.ModuleList(\n",
    "    nn.Sequential(\n",
    "        Conv(x, c2, 3), \n",
    "        Conv(c2, c2, 3),\n",
    "        nn.Conv2d(c2, 4 * reg_max, 1)) for x in ch)\n",
    "\n",
    "cv3 = nn.ModuleList(\n",
    "    nn.Sequential(\n",
    "        Conv(x, c3, 3), \n",
    "        Conv(c3, c3, 3),\n",
    "        nn.Conv2d(c3, nc, 1)) for x in ch)\n",
    "\n",
    "\n",
    "for i in range(len(ch)):\n",
    "    print(cv2[i](feats[i]).size(),cv3[i](feats[i]).size())\n",
    "    print(torch.cat((cv2[i](feats[i]), cv3[i](feats[i])), 1).size())\n",
    "    feats[i] = torch.cat((cv2[i](feats[i]), cv3[i](feats[i])), 1)\n",
    "\n"
   ]
  },
  {
   "cell_type": "code",
   "execution_count": 44,
   "metadata": {},
   "outputs": [
    {
     "data": {
      "text/plain": [
       "80"
      ]
     },
     "execution_count": 44,
     "metadata": {},
     "output_type": "execute_result"
    }
   ],
   "source": [
    "\n",
    "no = nc + reg_max * 4 \n",
    "no"
   ]
  },
  {
   "cell_type": "code",
   "execution_count": 45,
   "metadata": {},
   "outputs": [
    {
     "data": {
      "text/plain": [
       "(torch.Size([2, 64, 8400]), torch.Size([2, 16, 8400]))"
      ]
     },
     "execution_count": 45,
     "metadata": {},
     "output_type": "execute_result"
    }
   ],
   "source": [
    "pred_distri, pred_scores = torch.cat([xi.view(feats[0].shape[0], no, -1) for xi in feats], 2).split((reg_max * 4, nc), 1)\n",
    "pred_distri.size(), pred_scores.size()"
   ]
  },
  {
   "cell_type": "code",
   "execution_count": 46,
   "metadata": {},
   "outputs": [
    {
     "data": {
      "text/plain": [
       "(torch.Size([2, 8400, 64]), torch.Size([2, 8400, 16]))"
      ]
     },
     "execution_count": 46,
     "metadata": {},
     "output_type": "execute_result"
    }
   ],
   "source": [
    "pred_distri = pred_distri.permute(0, 2, 1).contiguous()\n",
    "pred_scores = pred_scores.permute(0, 2, 1).contiguous()\n",
    "pred_distri.size(), pred_scores.size()"
   ]
  },
  {
   "cell_type": "code",
   "execution_count": 47,
   "metadata": {},
   "outputs": [
    {
     "data": {
      "text/plain": [
       "(torch.Size([2, 8, 64]), torch.Size([2, 8, 16]))"
      ]
     },
     "execution_count": 47,
     "metadata": {},
     "output_type": "execute_result"
    }
   ],
   "source": [
    "pred_distri = torch.rand((2, 8, 16 * 4))\n",
    "pred_scores = torch.rand((2, 8, 16))\n",
    "pred_distri.size(), pred_scores.size()"
   ]
  },
  {
   "cell_type": "code",
   "execution_count": 48,
   "metadata": {},
   "outputs": [
    {
     "name": "stdout",
     "output_type": "stream",
     "text": [
      "tensor(254.7453)\n",
      "tensor(254.7453)\n"
     ]
    }
   ],
   "source": [
    "bce = nn.BCEWithLogitsLoss(reduction='none')\n",
    "print(bce(pred_scores, target_scores).sum())\n",
    "print(-(target_scores * pred_scores.sigmoid().log() + (1 - target_scores) * (1 - pred_scores.sigmoid()).log()).sum())"
   ]
  },
  {
   "cell_type": "code",
   "execution_count": null,
   "metadata": {},
   "outputs": [],
   "source": []
  },
  {
   "cell_type": "code",
   "execution_count": 49,
   "metadata": {},
   "outputs": [
    {
     "name": "stdout",
     "output_type": "stream",
     "text": [
      "torch.Size([8400, 2])\n",
      "torch.Size([8400, 1])\n",
      "torch.Size([8, 2])\n",
      "torch.Size([8, 1])\n"
     ]
    }
   ],
   "source": [
    "def make_anchors(feats, strides, grid_cell_offset=0.5):\n",
    "    \"\"\"Generate anchors from features.\"\"\"\n",
    "    anchor_points, stride_tensor = [], []\n",
    "    assert feats is not None\n",
    "    dtype, device = feats[0].dtype, feats[0].device\n",
    "    for i, stride in enumerate(strides):\n",
    "        _, _, h, w = feats[i].shape\n",
    "        sx = torch.arange(end=w, device=device, dtype=dtype) + grid_cell_offset  # shift x\n",
    "        sy = torch.arange(end=h, device=device, dtype=dtype) + grid_cell_offset  # shift y\n",
    "        sy, sx = torch.meshgrid(sy, sx, indexing='ij') \n",
    "        anchor_points.append(torch.stack((sx, sy), -1).view(-1, 2))\n",
    "        stride_tensor.append(torch.full((h * w, 1), stride, dtype=dtype, device=device))\n",
    "    return torch.cat(anchor_points), torch.cat(stride_tensor)\n",
    "\n",
    "anchor_points, stride_tensor = make_anchors(feats, strides, 0.5)\n",
    "\n",
    "print(anchor_points.size())\n",
    "print(stride_tensor.size())\n",
    "\n",
    "anchor_points = torch.rand((8, 2))\n",
    "stride_tensor = torch.randint(8, 32, (8, 1)).float()\n",
    "\n",
    "print(anchor_points.size())\n",
    "print(stride_tensor.size())\n",
    "\n",
    "def bbox2dist(anchor_points, bbox, reg_max):\n",
    "    \"\"\"Transform bbox(xyxy) to dist(ltrb).\"\"\"\n",
    "    x1y1, x2y2 = bbox.chunk(2, -1)\n",
    "    return torch.cat((anchor_points - x1y1, x2y2 - anchor_points), -1).clamp_(0, reg_max - 0.01)\n",
    "\n"
   ]
  },
  {
   "cell_type": "code",
   "execution_count": 50,
   "metadata": {},
   "outputs": [
    {
     "data": {
      "text/plain": [
       "tensor([201,  83, 318,  32])"
      ]
     },
     "execution_count": 50,
     "metadata": {},
     "output_type": "execute_result"
    }
   ],
   "source": [
    "target_bboxes[0, 0]"
   ]
  },
  {
   "cell_type": "code",
   "execution_count": 51,
   "metadata": {},
   "outputs": [
    {
     "data": {
      "text/plain": [
       "tensor([15.])"
      ]
     },
     "execution_count": 51,
     "metadata": {},
     "output_type": "execute_result"
    }
   ],
   "source": [
    "stride_tensor[0]"
   ]
  },
  {
   "cell_type": "code",
   "execution_count": 52,
   "metadata": {},
   "outputs": [
    {
     "data": {
      "text/plain": [
       "tensor([0.9660, 0.2877])"
      ]
     },
     "execution_count": 52,
     "metadata": {},
     "output_type": "execute_result"
    }
   ],
   "source": [
    "anchor_points[0]"
   ]
  },
  {
   "cell_type": "code",
   "execution_count": 53,
   "metadata": {},
   "outputs": [
    {
     "data": {
      "text/plain": [
       "tensor([13.4000,  5.5333, 21.2000,  2.1333])"
      ]
     },
     "execution_count": 53,
     "metadata": {},
     "output_type": "execute_result"
    }
   ],
   "source": [
    "target_bboxes = target_bboxes.float()\n",
    "target_bboxes /= stride_tensor\n",
    "target_bboxes[0, 0]"
   ]
  },
  {
   "cell_type": "code",
   "execution_count": 54,
   "metadata": {},
   "outputs": [
    {
     "data": {
      "text/plain": [
       "tensor([ 0.0000,  0.0000, 14.9900,  1.8456])"
      ]
     },
     "execution_count": 54,
     "metadata": {},
     "output_type": "execute_result"
    }
   ],
   "source": [
    "target_ltrb = bbox2dist(anchor_points, target_bboxes, 16 - 1)\n",
    "\n",
    "target_ltrb[0, 0]"
   ]
  },
  {
   "cell_type": "code",
   "execution_count": null,
   "metadata": {},
   "outputs": [],
   "source": []
  },
  {
   "cell_type": "code",
   "execution_count": 55,
   "metadata": {},
   "outputs": [
    {
     "data": {
      "text/plain": [
       "(torch.Size([2, 8, 64]), torch.Size([2, 8, 4]))"
      ]
     },
     "execution_count": 55,
     "metadata": {},
     "output_type": "execute_result"
    }
   ],
   "source": [
    "pred_distri.size(), target_ltrb.size()"
   ]
  },
  {
   "cell_type": "code",
   "execution_count": 56,
   "metadata": {},
   "outputs": [
    {
     "data": {
      "text/plain": [
       "(torch.Size([10, 64]), torch.Size([10, 4]))"
      ]
     },
     "execution_count": 56,
     "metadata": {},
     "output_type": "execute_result"
    }
   ],
   "source": [
    "pred_distri[fg_mask.bool()].size(), target_ltrb[fg_mask.bool()].size()"
   ]
  },
  {
   "cell_type": "code",
   "execution_count": null,
   "metadata": {},
   "outputs": [],
   "source": []
  },
  {
   "cell_type": "code",
   "execution_count": 57,
   "metadata": {},
   "outputs": [
    {
     "data": {
      "text/plain": [
       "torch.Size([40, 16])"
      ]
     },
     "execution_count": 57,
     "metadata": {},
     "output_type": "execute_result"
    }
   ],
   "source": [
    "pred_distri[fg_mask.bool()].view(-1, 15 + 1).size()"
   ]
  },
  {
   "cell_type": "code",
   "execution_count": 58,
   "metadata": {},
   "outputs": [
    {
     "data": {
      "text/plain": [
       "tensor([ 0,  0, 14,  1])"
      ]
     },
     "execution_count": 58,
     "metadata": {},
     "output_type": "execute_result"
    }
   ],
   "source": [
    "target_ltrb[fg_mask.bool()].long()[0,:]"
   ]
  },
  {
   "cell_type": "code",
   "execution_count": 59,
   "metadata": {},
   "outputs": [
    {
     "data": {
      "text/plain": [
       "tensor([ 1,  1, 15,  2])"
      ]
     },
     "execution_count": 59,
     "metadata": {},
     "output_type": "execute_result"
    }
   ],
   "source": [
    "(target_ltrb[fg_mask.bool()].long() + 1)[0,:]"
   ]
  },
  {
   "cell_type": "code",
   "execution_count": 60,
   "metadata": {},
   "outputs": [
    {
     "data": {
      "text/plain": [
       "tensor([1.0000, 1.0000, 0.0100, 0.1544])"
      ]
     },
     "execution_count": 60,
     "metadata": {},
     "output_type": "execute_result"
    }
   ],
   "source": [
    "((target_ltrb[fg_mask.bool()].long() + 1) - target_ltrb[fg_mask.bool()])[0,:]"
   ]
  },
  {
   "cell_type": "code",
   "execution_count": null,
   "metadata": {},
   "outputs": [],
   "source": []
  },
  {
   "cell_type": "code",
   "execution_count": 61,
   "metadata": {},
   "outputs": [],
   "source": [
    "tl = target_ltrb[fg_mask.bool()].long()  # target left\n",
    "tr = tl + 1  # target right\n",
    "wl = tr - target_ltrb[fg_mask.bool()]  # weight left\n",
    "wr = 1 - wl  # weight right"
   ]
  },
  {
   "cell_type": "code",
   "execution_count": 62,
   "metadata": {},
   "outputs": [
    {
     "data": {
      "text/plain": [
       "tensor([ 0.0000,  0.0000, 14.9900,  1.8456])"
      ]
     },
     "execution_count": 62,
     "metadata": {},
     "output_type": "execute_result"
    }
   ],
   "source": [
    "target_ltrb[fg_mask.bool()][0, :]"
   ]
  },
  {
   "cell_type": "code",
   "execution_count": 63,
   "metadata": {},
   "outputs": [
    {
     "data": {
      "text/plain": [
       "(tensor([ 0,  0, 14,  1]), tensor([1.0000, 1.0000, 0.0100, 0.1544]))"
      ]
     },
     "execution_count": 63,
     "metadata": {},
     "output_type": "execute_result"
    }
   ],
   "source": [
    "tl[0, :], wl[0, :]"
   ]
  },
  {
   "cell_type": "code",
   "execution_count": 64,
   "metadata": {},
   "outputs": [
    {
     "data": {
      "text/plain": [
       "(tensor([ 1,  1, 15,  2]), tensor([0.0000, 0.0000, 0.9900, 0.8456]))"
      ]
     },
     "execution_count": 64,
     "metadata": {},
     "output_type": "execute_result"
    }
   ],
   "source": [
    "tr[0, :], wr[0, :]"
   ]
  },
  {
   "cell_type": "code",
   "execution_count": 65,
   "metadata": {},
   "outputs": [
    {
     "data": {
      "text/plain": [
       "torch.Size([40, 16])"
      ]
     },
     "execution_count": 65,
     "metadata": {},
     "output_type": "execute_result"
    }
   ],
   "source": [
    "pred_distri[fg_mask.bool()].view(-1, 15 + 1).size()\n"
   ]
  },
  {
   "cell_type": "code",
   "execution_count": null,
   "metadata": {},
   "outputs": [],
   "source": []
  },
  {
   "cell_type": "code",
   "execution_count": 66,
   "metadata": {},
   "outputs": [
    {
     "data": {
      "text/plain": [
       "(tensor(5), tensor([0, 0, 0, 0, 0, 1, 0, 0, 0, 0, 0, 0, 0, 0, 0, 0]))"
      ]
     },
     "execution_count": 66,
     "metadata": {},
     "output_type": "execute_result"
    }
   ],
   "source": [
    "tl.view(-1)[15], F.one_hot(tl.view(-1), num_classes=16)[15]"
   ]
  },
  {
   "cell_type": "code",
   "execution_count": 67,
   "metadata": {},
   "outputs": [
    {
     "data": {
      "text/plain": [
       "tensor([[2.4721],\n",
       "        [2.9217],\n",
       "        [2.8823],\n",
       "        [2.7947],\n",
       "        [2.6715],\n",
       "        [2.7278],\n",
       "        [2.8697],\n",
       "        [2.9280],\n",
       "        [2.8218],\n",
       "        [2.8073]])"
      ]
     },
     "execution_count": 67,
     "metadata": {},
     "output_type": "execute_result"
    }
   ],
   "source": [
    "(-(pred_distri[fg_mask.bool()].view(-1, 15 + 1).softmax(-1).log() * F.one_hot(tl.view(-1), num_classes=16)).sum(-1).view(tl.shape) * wl + \\\n",
    "(-(pred_distri[fg_mask.bool()].view(-1, 15 + 1).softmax(-1).log() * F.one_hot(tr.view(-1), num_classes=16)).sum(-1)).view(tl.shape) * wr).mean(-1, keepdim=True)"
   ]
  },
  {
   "cell_type": "code",
   "execution_count": 68,
   "metadata": {},
   "outputs": [
    {
     "data": {
      "text/plain": [
       "tensor([[2.4721],\n",
       "        [2.9217],\n",
       "        [2.8823],\n",
       "        [2.7947],\n",
       "        [2.6715],\n",
       "        [2.7278],\n",
       "        [2.8697],\n",
       "        [2.9280],\n",
       "        [2.8218],\n",
       "        [2.8073]])"
      ]
     },
     "execution_count": 68,
     "metadata": {},
     "output_type": "execute_result"
    }
   ],
   "source": [
    "(F.cross_entropy(pred_distri[fg_mask.bool()].view(-1, 15 + 1), tl.view(-1), reduction='none').view(tl.shape) * wl +\n",
    "F.cross_entropy(pred_distri[fg_mask.bool()].view(-1, 15 + 1), tr.view(-1), reduction='none').view(tl.shape) * wr).mean(-1, keepdim=True)"
   ]
  },
  {
   "cell_type": "code",
   "execution_count": null,
   "metadata": {},
   "outputs": [],
   "source": []
  },
  {
   "cell_type": "code",
   "execution_count": 69,
   "metadata": {},
   "outputs": [],
   "source": [
    "def dist2bbox(distance, anchor_points, xywh=True, dim=-1):\n",
    "    \"\"\"Transform distance(ltrb) to box(xywh or xyxy).\"\"\"\n",
    "    lt, rb = distance.chunk(2, dim)\n",
    "    x1y1 = anchor_points - lt\n",
    "    x2y2 = anchor_points + rb\n",
    "    if xywh:\n",
    "        c_xy = (x1y1 + x2y2) / 2\n",
    "        wh = x2y2 - x1y1\n",
    "        return torch.cat((c_xy, wh), dim)  # xywh bbox\n",
    "    return torch.cat((x1y1, x2y2), dim)  # xyxy bbox\n",
    "\n",
    "def bbox_decode(anchor_points, pred_dist):\n",
    "    \"\"\"Decode predicted object bounding box coordinates from anchor points and distribution.\"\"\"\n",
    "\n",
    "    b, a, c = pred_dist.shape  # batch, anchors, channels\n",
    "    pred_dist = pred_dist.view(b, a, 4, c // 4).softmax(3).matmul()\n",
    "  \n",
    "    return dist2bbox(pred_dist, anchor_points, xywh=False)\n",
    "\n",
    "\n"
   ]
  },
  {
   "cell_type": "code",
   "execution_count": 70,
   "metadata": {},
   "outputs": [
    {
     "data": {
      "text/plain": [
       "tensor([ 0.,  1.,  2.,  3.,  4.,  5.,  6.,  7.,  8.,  9., 10., 11., 12., 13.,\n",
       "        14., 15.])"
      ]
     },
     "execution_count": 70,
     "metadata": {},
     "output_type": "execute_result"
    }
   ],
   "source": [
    "proj = torch.arange(16, dtype=torch.float)\n",
    "proj"
   ]
  },
  {
   "cell_type": "code",
   "execution_count": 71,
   "metadata": {},
   "outputs": [
    {
     "data": {
      "text/plain": [
       "tensor(7.4544)"
      ]
     },
     "execution_count": 71,
     "metadata": {},
     "output_type": "execute_result"
    }
   ],
   "source": [
    "b, a, c = pred_distri.shape\n",
    "pred_distri.view(b, a, 4, c // 4).softmax(3).matmul(proj)[0, 0, 0]"
   ]
  },
  {
   "cell_type": "code",
   "execution_count": 72,
   "metadata": {},
   "outputs": [
    {
     "data": {
      "text/plain": [
       "tensor(7.4544)"
      ]
     },
     "execution_count": 72,
     "metadata": {},
     "output_type": "execute_result"
    }
   ],
   "source": [
    "(pred_distri.view(b, a, 4, c // 4).softmax(3)[0, 0, 0, :] * proj).sum()"
   ]
  },
  {
   "cell_type": "code",
   "execution_count": 73,
   "metadata": {},
   "outputs": [
    {
     "data": {
      "text/plain": [
       "torch.Size([2, 8, 4])"
      ]
     },
     "execution_count": 73,
     "metadata": {},
     "output_type": "execute_result"
    }
   ],
   "source": [
    "b, a, c = pred_distri.shape\n",
    "pred_dist = pred_distri.view(b, a, 4, c // 4).softmax(3).matmul(proj)\n",
    "\n",
    "pd_bboxes = dist2bbox(pred_dist, anchor_points, xywh=False)\n",
    "pd_bboxes.size()"
   ]
  },
  {
   "cell_type": "code",
   "execution_count": 74,
   "metadata": {},
   "outputs": [
    {
     "data": {
      "text/plain": [
       "tensor([-6.4884, -6.9726,  9.1069,  7.5366])"
      ]
     },
     "execution_count": 74,
     "metadata": {},
     "output_type": "execute_result"
    }
   ],
   "source": [
    "pd_bboxes[0, 0]"
   ]
  },
  {
   "cell_type": "code",
   "execution_count": 75,
   "metadata": {},
   "outputs": [],
   "source": [
    "\n",
    "def bbox_iou(box1, box2, xywh=True, GIoU=False, DIoU=False, CIoU=False, eps=1e-7):\n",
    "\n",
    "    # Get the coordinates of bounding boxes\n",
    "    if xywh:  # transform from xywh to xyxy\n",
    "        (x1, y1, w1, h1), (x2, y2, w2, h2) = box1.chunk(4, -1), box2.chunk(4, -1)\n",
    "        w1_, h1_, w2_, h2_ = w1 / 2, h1 / 2, w2 / 2, h2 / 2\n",
    "        b1_x1, b1_x2, b1_y1, b1_y2 = x1 - w1_, x1 + w1_, y1 - h1_, y1 + h1_\n",
    "        b2_x1, b2_x2, b2_y1, b2_y2 = x2 - w2_, x2 + w2_, y2 - h2_, y2 + h2_\n",
    "    else:  # x1, y1, x2, y2 = box1\n",
    "        b1_x1, b1_y1, b1_x2, b1_y2 = box1.chunk(4, -1)\n",
    "        b2_x1, b2_y1, b2_x2, b2_y2 = box2.chunk(4, -1)\n",
    "        w1, h1 = b1_x2 - b1_x1, b1_y2 - b1_y1 + eps\n",
    "        w2, h2 = b2_x2 - b2_x1, b2_y2 - b2_y1 + eps\n",
    "    # Intersection area\n",
    "    inter = (b1_x2.minimum(b2_x2) - b1_x1.maximum(b2_x1)).clamp_(0) * \\\n",
    "            (b1_y2.minimum(b2_y2) - b1_y1.maximum(b2_y1)).clamp_(0)\n",
    "\n",
    "    # Union Area\n",
    "    union = w1 * h1 + w2 * h2 - inter + eps\n",
    "\n",
    "    # IoU\n",
    "    iou = inter / union\n",
    "    if CIoU or DIoU or GIoU:\n",
    "        cw = b1_x2.maximum(b2_x2) - b1_x1.minimum(b2_x1)  # convex (smallest enclosing box) width\n",
    "        ch = b1_y2.maximum(b2_y2) - b1_y1.minimum(b2_y1)  # convex height\n",
    "        if CIoU or DIoU:  # Distance or Complete IoU \n",
    "            c2 = cw ** 2 + ch ** 2 + eps  # convex diagonal squared\n",
    "            rho2 = ((b2_x1 + b2_x2 - b1_x1 - b1_x2) ** 2 + (b2_y1 + b2_y2 - b1_y1 - b1_y2) ** 2) / 4  # center dist ** 2\n",
    "            if CIoU: \n",
    "                v = (4 / math.pi ** 2) * (torch.atan(w2 / h2) - torch.atan(w1 / h1)).pow(2)\n",
    "                with torch.no_grad():\n",
    "                    alpha = v / (v - iou + (1 + eps))\n",
    "                return iou - (rho2 / c2 + v * alpha)  # CIoU\n",
    "            return iou - rho2 / c2  # DIoU\n",
    "        c_area = cw * ch + eps  # convex area\n",
    "        return iou - (c_area - union) / c_area \n",
    "    return iou  # IoU\n",
    "\n"
   ]
  },
  {
   "cell_type": "code",
   "execution_count": 76,
   "metadata": {},
   "outputs": [
    {
     "data": {
      "text/plain": [
       "tensor(1.7119)"
      ]
     },
     "execution_count": 76,
     "metadata": {},
     "output_type": "execute_result"
    }
   ],
   "source": [
    "\n",
    "target_scores_sum = max(target_scores.sum(), 1)\n",
    "\n",
    "weight = target_scores.sum(-1)[fg_mask.bool()].unsqueeze(-1)\n",
    "iou = bbox_iou(pd_bboxes[fg_mask.bool()], target_bboxes[fg_mask.bool()], xywh=False, CIoU=True)\n",
    "loss_iou = ((1.0 - iou) * weight).sum() / target_scores_sum\n",
    "loss_iou"
   ]
  },
  {
   "cell_type": "code",
   "execution_count": null,
   "metadata": {},
   "outputs": [],
   "source": []
  },
  {
   "cell_type": "code",
   "execution_count": null,
   "metadata": {},
   "outputs": [],
   "source": []
  },
  {
   "cell_type": "code",
   "execution_count": null,
   "metadata": {},
   "outputs": [],
   "source": []
  },
  {
   "cell_type": "code",
   "execution_count": 77,
   "metadata": {},
   "outputs": [],
   "source": [
    "def xywh2xyxy(x):\n",
    "\n",
    "    assert x.shape[-1] == 4, f'input shape last dimension expected 4 but input shape is {x.shape}'\n",
    "    y = torch.empty_like(x) if isinstance(x, torch.Tensor) else np.empty_like(x)  # faster than clone/copy\n",
    "    dw = x[..., 2] / 2  # half-width\n",
    "    dh = x[..., 3] / 2  # half-height\n",
    "    y[..., 0] = x[..., 0] - dw  # top left x\n",
    "    y[..., 1] = x[..., 1] - dh  # top left y\n",
    "    y[..., 2] = x[..., 0] + dw  # bottom right x\n",
    "    y[..., 3] = x[..., 1] + dh  # bottom right y\n",
    "    return y\n",
    "\n",
    "\n",
    "def box_iou(box1, box2, eps=1e-7):\n",
    "\n",
    "    # inter(N,M) = (rb(N,M,2) - lt(N,M,2)).clamp(0).prod(2)\n",
    "    (a1, a2), (b1, b2) = box1.unsqueeze(1).chunk(2, 2), box2.unsqueeze(0).chunk(2, 2)\n",
    "    inter = (torch.min(a2, b2) - torch.max(a1, b1)).clamp_(0).prod(2)\n",
    "\n",
    "    # IoU = inter / (area1 + area2 - inter)\n",
    "    return inter / ((a2 - a1).prod(2) + (b2 - b1).prod(2) - inter + eps)\n",
    "\n",
    "iouv = torch.linspace(0.5, 0.95, 10)  # iou vector for mAP@0.5:0.95\n",
    "\n",
    "def match_predictions(pred_classes, true_classes, iou, use_scipy=False):\n",
    "    \"\"\"\n",
    "    Matches predictions to ground truth objects (pred_classes, true_classes) using IoU.\n",
    "\n",
    "    Args:\n",
    "        pred_classes (torch.Tensor): Predicted class indices of shape(N,).\n",
    "        true_classes (torch.Tensor): Target class indices of shape(M,).\n",
    "        iou (torch.Tensor): An NxM tensor containing the pairwise IoU values for predictions and ground of truth\n",
    "        use_scipy (bool): Whether to use scipy for matching (more precise).\n",
    "\n",
    "    Returns:\n",
    "        (torch.Tensor): Correct tensor of shape(N,10) for 10 IoU thresholds.\n",
    "    \"\"\"\n",
    "    # Dx10 matrix, where D - detections, 10 - IoU thresholds\n",
    "    correct = np.zeros((pred_classes.shape[0], iouv.shape[0])).astype(bool)\n",
    "    # LxD matrix where L - labels (rows), D - detections (columns)\n",
    "    correct_class = true_classes[:, None] == pred_classes\n",
    "    iou = iou * correct_class  # zero out the wrong classes\n",
    "    iou = iou.cpu().numpy()\n",
    "    for i, threshold in enumerate(iouv.cpu().tolist()):\n",
    "        if use_scipy:\n",
    "            # WARNING: known issue that reduces mAP in https://github.com/ultralytics/ultralytics/pull/4708\n",
    "            import scipy  # scope import to avoid importing for all commands\n",
    "            cost_matrix = iou * (iou >= threshold)\n",
    "            if cost_matrix.any():\n",
    "                labels_idx, detections_idx = scipy.optimize.linear_sum_assignment(cost_matrix, maximize=True)\n",
    "                valid = cost_matrix[labels_idx, detections_idx] > 0\n",
    "                if valid.any():\n",
    "                    correct[detections_idx[valid], i] = True\n",
    "        else:\n",
    "            matches = np.nonzero(iou >= threshold)  # IoU > threshold and classes match\n",
    "            matches = np.array(matches).T\n",
    "            if matches.shape[0]:\n",
    "                if matches.shape[0] > 1:\n",
    "                    matches = matches[iou[matches[:, 0], matches[:, 1]].argsort()[::-1]]\n",
    "                    matches = matches[np.unique(matches[:, 1], return_index=True)[1]]\n",
    "                    # matches = matches[matches[:, 2].argsort()[::-1]]\n",
    "                    matches = matches[np.unique(matches[:, 0], return_index=True)[1]]\n",
    "                correct[matches[:, 1].astype(int), i] = True\n",
    "    return torch.tensor(correct, dtype=torch.bool, device=pred_classes.device)\n"
   ]
  },
  {
   "cell_type": "code",
   "execution_count": null,
   "metadata": {},
   "outputs": [],
   "source": []
  },
  {
   "cell_type": "code",
   "execution_count": 78,
   "metadata": {},
   "outputs": [],
   "source": [
    "batch_size = 3\n",
    "\n",
    "preds = torch.randint(0, 320, (batch_size, 200, 4))\n",
    "preds[..., 0] = preds[..., 0] + preds[..., 2] / 2\n",
    "preds[..., 1] = preds[..., 1] + preds[..., 3] / 2\n",
    "preds = xywh2xyxy(preds)\n",
    "# preds = preds.float()\n",
    "\n",
    "preds = torch.cat((preds, torch.rand((batch_size, 200, 1))), -1)\n",
    "\n",
    "preds = torch.cat((preds, torch.randint(0, 2, (batch_size, 200, 1))), -1)  # native-space labels\n"
   ]
  },
  {
   "cell_type": "code",
   "execution_count": 79,
   "metadata": {},
   "outputs": [
    {
     "name": "stdout",
     "output_type": "stream",
     "text": [
      "torch.Size([200, 10])\n",
      "torch.Size([200, 10])\n",
      "torch.Size([200, 10])\n"
     ]
    },
    {
     "data": {
      "image/png": "[encoded data removed]",
      "text/plain": [
       "<Figure size 640x480 with 6 Axes>"
      ]
     },
     "metadata": {},
     "output_type": "display_data"
    }
   ],
   "source": [
    "\n",
    "plt.figure()\n",
    "\n",
    "\n",
    "stats = []\n",
    "\n",
    "for si, pred in enumerate(preds):\n",
    "\n",
    "\n",
    "    image = np.full_like(np.empty((640, 640, 3), np.uint8), 128)\n",
    "    for box in pred:\n",
    "        box = box.int()\n",
    "        cv.rectangle(image, (box[0].item(), box[1].item()), (box[2].item(), box[3].item()), (0, 0, 255), 2)\n",
    "    plt.subplot(2, batch_size, si + 1)\n",
    "    plt.imshow(image)\n",
    "\n",
    "\n",
    "    cls = torch.randint(0, 2, (3, 1))\n",
    "    bbox = torch.randint(0, 320, (3, 4))\n",
    "    bbox[..., 0] = bbox[..., 0] + bbox[..., 2] / 2\n",
    "    bbox[..., 1] = bbox[..., 1] + bbox[..., 3] / 2\n",
    "    tbox = xywh2xyxy(bbox)\n",
    "\n",
    "\n",
    "    image = np.full_like(np.empty((640, 640, 3), np.uint8), 128)\n",
    "    for box in tbox:\n",
    "        cv.rectangle(image, (box[0].item(), box[1].item()), (box[2].item(), box[3].item()), (0, 0, 255), 2)\n",
    "    plt.subplot(2, batch_size, si + batch_size + 1)\n",
    "    plt.imshow(image)\n",
    "\n",
    "\n",
    "    detections = pred.clone()\n",
    "    labels = torch.cat((cls, tbox), 1)  # native-space labels\n",
    "\n",
    "    iou = box_iou(labels[:, 1:], detections[:, :4])\n",
    "\n",
    "\n",
    "    correct_bboxes = match_predictions(detections[:, 5], labels[:, 0], iou)\n",
    "\n",
    "    print(correct_bboxes.shape)\n",
    "\n",
    "\n",
    "    stats.append((correct_bboxes, pred[:, 4], pred[:, 5], cls.squeeze(-1)))\n"
   ]
  },
  {
   "cell_type": "code",
   "execution_count": null,
   "metadata": {},
   "outputs": [],
   "source": []
  },
  {
   "cell_type": "code",
   "execution_count": 80,
   "metadata": {},
   "outputs": [
    {
     "name": "stdout",
     "output_type": "stream",
     "text": [
      "==========\n",
      "[[ 0 19]\n",
      " [ 1 88]]\n",
      "[0.5229503 0.7212459]\n",
      "[1 0]\n",
      "[[ 1 88]\n",
      " [ 0 19]]\n",
      "----------\n",
      "[[ 0 19]\n",
      " [ 1 88]]\n",
      "[[ 0 19]\n",
      " [ 1 88]]\n",
      "0\n",
      "[False False False False False False False False False False False False\n",
      " False False False False False False False  True False False False False\n",
      " False False False False False False False False False False False False\n",
      " False False False False False False False False False False False False\n",
      " False False False False False False False False False False False False\n",
      " False False False False False False False False False False False False\n",
      " False False False False False False False False False False False False\n",
      " False False False False  True False False False False False False False\n",
      " False False False False False False False False False False False False\n",
      " False False False False False False False False False False False False\n",
      " False False False False False False False False False False False False\n",
      " False False False False False False False False False False False False\n",
      " False False False False False False False False False False False False\n",
      " False False False False False False False False False False False False\n",
      " False False False False False False False False False False False False\n",
      " False False False False False False False False False False False False\n",
      " False False False False False False False False]\n",
      "==========\n",
      "[[ 1 88]]\n",
      "[False False False False False False False False False False False False\n",
      " False False False False False False False False False False False False\n",
      " False False False False False False False False False False False False\n",
      " False False False False False False False False False False False False\n",
      " False False False False False False False False False False False False\n",
      " False False False False False False False False False False False False\n",
      " False False False False False False False False False False False False\n",
      " False False False False  True False False False False False False False\n",
      " False False False False False False False False False False False False\n",
      " False False False False False False False False False False False False\n",
      " False False False False False False False False False False False False\n",
      " False False False False False False False False False False False False\n",
      " False False False False False False False False False False False False\n",
      " False False False False False False False False False False False False\n",
      " False False False False False False False False False False False False\n",
      " False False False False False False False False False False False False\n",
      " False False False False False False False False]\n",
      "==========\n",
      "[[ 1 88]]\n",
      "[False False False False False False False False False False False False\n",
      " False False False False False False False False False False False False\n",
      " False False False False False False False False False False False False\n",
      " False False False False False False False False False False False False\n",
      " False False False False False False False False False False False False\n",
      " False False False False False False False False False False False False\n",
      " False False False False False False False False False False False False\n",
      " False False False False  True False False False False False False False\n",
      " False False False False False False False False False False False False\n",
      " False False False False False False False False False False False False\n",
      " False False False False False False False False False False False False\n",
      " False False False False False False False False False False False False\n",
      " False False False False False False False False False False False False\n",
      " False False False False False False False False False False False False\n",
      " False False False False False False False False False False False False\n",
      " False False False False False False False False False False False False\n",
      " False False False False False False False False]\n",
      "==========\n",
      "[[ 1 88]]\n",
      "[False False False False False False False False False False False False\n",
      " False False False False False False False False False False False False\n",
      " False False False False False False False False False False False False\n",
      " False False False False False False False False False False False False\n",
      " False False False False False False False False False False False False\n",
      " False False False False False False False False False False False False\n",
      " False False False False False False False False False False False False\n",
      " False False False False  True False False False False False False False\n",
      " False False False False False False False False False False False False\n",
      " False False False False False False False False False False False False\n",
      " False False False False False False False False False False False False\n",
      " False False False False False False False False False False False False\n",
      " False False False False False False False False False False False False\n",
      " False False False False False False False False False False False False\n",
      " False False False False False False False False False False False False\n",
      " False False False False False False False False False False False False\n",
      " False False False False False False False False]\n",
      "==========\n",
      "[[ 1 88]]\n",
      "[False False False False False False False False False False False False\n",
      " False False False False False False False False False False False False\n",
      " False False False False False False False False False False False False\n",
      " False False False False False False False False False False False False\n",
      " False False False False False False False False False False False False\n",
      " False False False False False False False False False False False False\n",
      " False False False False False False False False False False False False\n",
      " False False False False  True False False False False False False False\n",
      " False False False False False False False False False False False False\n",
      " False False False False False False False False False False False False\n",
      " False False False False False False False False False False False False\n",
      " False False False False False False False False False False False False\n",
      " False False False False False False False False False False False False\n",
      " False False False False False False False False False False False False\n",
      " False False False False False False False False False False False False\n",
      " False False False False False False False False False False False False\n",
      " False False False False False False False False]\n"
     ]
    }
   ],
   "source": [
    "pred_classes = detections[:, 5]\n",
    "true_classes = labels[:, 0]\n",
    "\n",
    "\n",
    "iouv = torch.linspace(0.5, 0.95, 10)  # iou vector for mAP@0.5:0.95\n",
    "\n",
    "# Dx10 matrix, where D - detections, 10 - IoU thresholds\n",
    "correct = np.zeros((pred_classes.shape[0], iouv.shape[0])).astype(bool)\n",
    "# LxD matrix where L - labels (rows), D - detections (columns)\n",
    "correct_class = true_classes[:, None] == pred_classes\n",
    "iou = iou * correct_class  # zero out the wrong classes\n",
    "iou = iou.cpu().numpy()\n",
    "\n",
    "# print(iou)\n",
    "\n",
    "for i, threshold in enumerate(iouv.cpu().tolist()):\n",
    "    matches = np.nonzero(iou >= threshold)  # IoU > threshold and classes match\n",
    "    matches = np.array(matches).T\n",
    "    \n",
    "    if matches.shape[0]:\n",
    "        print(\"=\" * 10)\n",
    "        print(matches)\n",
    "        # print(matches.shape)\n",
    "        if matches.shape[0] > 1:\n",
    "\n",
    "            print(iou[matches[:, 0], matches[:, 1]])\n",
    "            # print(iou[matches[:, 0], matches[:, 1]].argsort())\n",
    "            print(iou[matches[:, 0], matches[:, 1]].argsort()[::-1])\n",
    "\n",
    "            matches = matches[iou[matches[:, 0], matches[:, 1]].argsort()[::-1]]\n",
    "\n",
    "            print(matches)\n",
    "            # print(np.unique(matches[:, 1], return_index=True))\n",
    "            print(\"-\" * 10)\n",
    "            matches = matches[np.unique(matches[:, 1], return_index=True)[1]]\n",
    "\n",
    "            print(matches)\n",
    "            # print(np.unique(matches[:, 0], return_index=True))\n",
    "            matches = matches[np.unique(matches[:, 0], return_index=True)[1]]\n",
    "\n",
    "            print(matches)\n",
    "            print(i)\n",
    "\n",
    "        correct[matches[:, 1].astype(int), i] = True\n",
    "        # print(iou)\n",
    "        print(correct[:, i]) "
   ]
  },
  {
   "cell_type": "code",
   "execution_count": 81,
   "metadata": {},
   "outputs": [],
   "source": [
    "stats = [torch.cat(x, 0).cpu().numpy() for x in zip(*stats)]"
   ]
  },
  {
   "cell_type": "code",
   "execution_count": null,
   "metadata": {},
   "outputs": [],
   "source": []
  },
  {
   "cell_type": "code",
   "execution_count": 82,
   "metadata": {},
   "outputs": [
    {
     "name": "stdout",
     "output_type": "stream",
     "text": [
      "置信度区间: 0.9995122 ~ 2.4914742e-05\n",
      "该类样本真实量: 5\n",
      "该类样本预测量: 299\n",
      "(最低置信度)该类tp: (299, 10) 不同IOU: [1 0 0 0 0 0 0 0 0 0]\n",
      "(最低置信度)该类fp: (299, 10) 不同IOU: [298 299 299 299 299 299 299 299 299 299]\n",
      "(最低置信度)recall: [0.2 0.  0.  0.  0.  0.  0.  0.  0.  0. ]\n",
      "(最低置信度)precision: [0.003 0.    0.    0.    0.    0.    0.    0.    0.    0.   ]\n",
      "mAP@不同IOU数量: 10\n",
      "----------------------------------------------------------------------------------------------------\n",
      "该类样本真实量: 4\n",
      "该类样本预测量: 301\n",
      "(最低置信度)该类tp: (301, 10) 不同IOU: [1 1 1 1 1 0 0 0 0 0]\n",
      "(最低置信度)该类fp: (301, 10) 不同IOU: [300 300 300 300 300 301 301 301 301 301]\n",
      "(最低置信度)recall: [0.25 0.25 0.25 0.25 0.25 0.   0.   0.   0.   0.  ]\n",
      "(最低置信度)precision: [0.003 0.003 0.003 0.003 0.003 0.    0.    0.    0.    0.   ]\n",
      "mAP@不同IOU数量: 10\n",
      "----------------------------------------------------------------------------------------------------\n",
      "(mAP@IOU0.5) f1: (2, 1000)\n",
      "{0: 'A', 1: 'B'}\n",
      "ap: [[0.002  0.     0.     0.     0.     0.     0.     0.     0.     0.    ]\n",
      " [0.0044 0.0044 0.0044 0.0044 0.0044 0.     0.     0.     0.     0.    ]]\n",
      "p: [0.         0.01059597]\n",
      "r: [0.   0.25]\n"
     ]
    }
   ],
   "source": [
    "def plot_pr_curve(px, py, ap, save_dir=Path('pr_curve.png'), names=(), on_plot=None):\n",
    "    \"\"\"Plots a precision-recall curve.\"\"\"\n",
    "    fig, ax = plt.subplots(1, 1, figsize=(9, 6), tight_layout=True)\n",
    "    py = np.stack(py, axis=1)\n",
    "\n",
    "    if 0 < len(names) < 21:  # display per-class legend if < 21 classes\n",
    "        for i, y in enumerate(py.T):\n",
    "            ax.plot(px, y, linewidth=1, label=f'{names[i]} {ap[i, 0]:.3f}')  # plot(recall, precision)\n",
    "    else:\n",
    "        ax.plot(px, py, linewidth=1, color='grey')  # plot(recall, precision)\n",
    "\n",
    "    ax.plot(px, py.mean(1), linewidth=3, color='blue', label='all classes %.3f mAP@0.5' % ap[:, 0].mean())\n",
    "    ax.set_xlabel('Recall')\n",
    "    ax.set_ylabel('Precision')\n",
    "    ax.set_xlim(0, 1)\n",
    "    ax.set_ylim(0, 1)\n",
    "    ax.legend(bbox_to_anchor=(1.04, 1), loc='upper left')\n",
    "    ax.set_title('Precision-Recall Curve')\n",
    "    fig.savefig(save_dir, dpi=250)\n",
    "    plt.close(fig)\n",
    "    if on_plot:\n",
    "        on_plot(save_dir)\n",
    "\n",
    "def plot_mc_curve(px, py, save_dir=Path('mc_curve.png'), names=(), \n",
    "                  xlabel='Confidence', ylabel='Metric', on_plot=None):\n",
    "    \"\"\"Plots a metric-confidence curve.\"\"\"\n",
    "    fig, ax = plt.subplots(1, 1, figsize=(9, 6), tight_layout=True)\n",
    "\n",
    "    if 0 < len(names) < 21:  # display per-class legend if < 21 classes\n",
    "        for i, y in enumerate(py):\n",
    "            ax.plot(px, y, linewidth=1, label=f'{names[i]}')  # plot(confidence, metric)\n",
    "    else:\n",
    "        ax.plot(px, py.T, linewidth=1, color='grey')  # plot(confidence, metric)\n",
    "\n",
    "    y = smooth(py.mean(0), 0.05)\n",
    "    ax.plot(px, y, linewidth=3, color='blue', label=f'all classes {y.max():.2f} at {px[y.argmax()]:.3f}')\n",
    "    ax.set_xlabel(xlabel)\n",
    "    ax.set_ylabel(ylabel)\n",
    "    ax.set_xlim(0, 1)\n",
    "    ax.set_ylim(0, 1)\n",
    "    ax.legend(bbox_to_anchor=(1.04, 1), loc='upper left')\n",
    "    ax.set_title(f'{ylabel}-Confidence Curve')\n",
    "    fig.savefig(save_dir, dpi=250)\n",
    "    plt.close(fig)\n",
    "    if on_plot:\n",
    "        on_plot(save_dir)\n",
    "\n",
    "\n",
    "def compute_ap(recall, precision):\n",
    "\n",
    "    # Append sentinel values to beginning and end\n",
    "    mrec = np.concatenate(([0.0], recall, [1.0]))\n",
    "    mpre = np.concatenate(([1.0], precision, [0.0]))\n",
    "\n",
    "    # Compute the precision envelope\n",
    "    mpre = np.flip(np.maximum.accumulate(np.flip(mpre)))\n",
    "\n",
    "    # Integrate area under curve\n",
    "    method = 'interp'  # methods: 'continuous', 'interp'\n",
    "    if method == 'interp':\n",
    "        x = np.linspace(0, 1, 101)  # 101-point interp (COCO)\n",
    "        ap = np.trapz(np.interp(x, mrec, mpre), x)  # integrate\n",
    "    else:  # 'continuous'\n",
    "        i = np.where(mrec[1:] != mrec[:-1])[0]  # points where x-axis (recall) changes\n",
    "        ap = np.sum((mrec[i + 1] - mrec[i]) * mpre[i + 1])  # area under curve\n",
    "\n",
    "    return ap, mpre, mrec\n",
    "\n",
    "def smooth(y, f=0.05):\n",
    "    \"\"\"Box filter of fraction f.\"\"\"\n",
    "    nf = round(len(y) * f * 2) // 2 + 1  # number of filter elements (must be odd)\n",
    "    p = np.ones(nf // 2)  # ones padding\n",
    "    yp = np.concatenate((p * y[0], y, p * y[-1]), 0)  # y padded\n",
    "    return np.convolve(yp, np.ones(nf) / nf, mode='valid')  # y-smoothed\n",
    "\n",
    "    \n",
    "def ap_per_class(tp, conf, pred_cls, target_cls, plot=False, on_plot=None, \n",
    "                 save_dir=Path(), names=(), eps=1e-16, prefix=''):\n",
    "\n",
    "    # Sort by objectness\n",
    "    i = np.argsort(-conf)\n",
    "\n",
    "    tp, conf, pred_cls = tp[i], conf[i], pred_cls[i]\n",
    "\n",
    "\n",
    "    print(\"置信度区间:\", conf[0], \"~\", conf[-1])\n",
    "\n",
    "    # Find unique classes\n",
    "    unique_classes, nt = np.unique(target_cls, return_counts=True)\n",
    "    nc = unique_classes.shape[0]  # number of classes, number of detections\n",
    "\n",
    "    # Create Precision-Recall curve and compute AP for each class\n",
    "    px, py = np.linspace(0, 1, 1000), []  # for plotting\n",
    "\n",
    "    ap, p, r = np.zeros((nc, tp.shape[1])), np.zeros((nc, 1000)), np.zeros((nc, 1000))\n",
    "    for ci, c in enumerate(unique_classes):\n",
    "        i = pred_cls == c\n",
    "\n",
    "        n_l = nt[ci]  # number of labels\n",
    "        n_p = i.sum()  # number of predictions\n",
    "\n",
    "        print(\"该类样本真实量:\", n_l)\n",
    "        print(\"该类样本预测量:\", n_p)\n",
    "        # print(n_p)\n",
    "        if n_p == 0 or n_l == 0:\n",
    "            continue\n",
    "\n",
    "        # Accumulate FPs and TPs\n",
    "        fpc = (1 - tp[i]).cumsum(0)\n",
    "        tpc = tp[i].cumsum(0)\n",
    "\n",
    "\n",
    "        print(\"(最低置信度)该类tp:\", tpc.shape, \"不同IOU:\", tpc[-1, :])\n",
    "        print(\"(最低置信度)该类fp:\", fpc.shape, \"不同IOU:\", fpc[-1, :])\n",
    "\n",
    "        # Recall\n",
    "        recall = tpc / (n_l + eps)  # recall curve\n",
    "        r[ci] = np.interp(-px, -conf[i], recall[:, 0], left=0)  # negative x, xp because xp decreases\n",
    "\n",
    "        print(\"(最低置信度)recall:\", recall[-1, :].round(3))\n",
    "\n",
    "        # Precision\n",
    "        precision = tpc / (tpc + fpc)  # precision curve\n",
    "        p[ci] = np.interp(-px, -conf[i], precision[:, 0], left=1)  # p at pr_score\n",
    "\n",
    "        print(\"(最低置信度)precision:\", precision[-1, :].round(3))\n",
    "\n",
    "        print(\"mAP@不同IOU数量:\", tp.shape[1])\n",
    "\n",
    "        # AP from recall-precision curve\n",
    "        for j in range(tp.shape[1]):\n",
    "            ap[ci, j], mpre, mrec = compute_ap(recall[:, j], precision[:, j])\n",
    "            if plot and j == 0:\n",
    "                py.append(np.interp(px, mrec, mpre))  # precision at mAP@0.5\n",
    "\n",
    "        print(\"-\" * 100)\n",
    "    # Compute F1 (harmonic mean of precision and recall)\n",
    "    f1 = 2 * p * r / (p + r + eps)\n",
    "    print(\"(mAP@IOU0.5) f1:\", f1.shape)\n",
    "    names = [v for k, v in names.items() if k in unique_classes]  # list: only classes that have data\n",
    "    names = dict(enumerate(names))  # to dict\n",
    "    print(names)\n",
    "\n",
    "    if plot:\n",
    "        plot_pr_curve(px, py, ap, save_dir / f'{prefix}PR_curve.png', names, on_plot=on_plot)\n",
    "        plot_mc_curve(px, f1, save_dir / f'{prefix}F1_curve.png', names, ylabel='F1', on_plot=on_plot)\n",
    "        plot_mc_curve(px, p, save_dir / f'{prefix}P_curve.png', names, ylabel='Precision', on_plot=on_plot)\n",
    "        plot_mc_curve(px, r, save_dir / f'{prefix}R_curve.png', names, ylabel='Recall', on_plot=on_plot)\n",
    "\n",
    "    i = smooth(f1.mean(0), 0.1).argmax()  # max F1 index\n",
    "    p, r, f1 = p[:, i], r[:, i], f1[:, i]\n",
    "    tp = (r * nt).round()  # true positives\n",
    "    fp = (tp / (p + eps) - tp).round()  # false positives\n",
    "\n",
    "    return tp, fp, p, r, f1, ap, unique_classes.astype(int)\n",
    "\n",
    "tp, fp, p, r, f1, ap, _ = ap_per_class(*stats, names={0:\"A\", 1:\"B\"}, plot=False)\n",
    "\n",
    "\n",
    "print(\"ap:\", ap.round(4))\n",
    "print(\"p:\", p)\n",
    "print(\"r:\", r)\n"
   ]
  },
  {
   "cell_type": "code",
   "execution_count": null,
   "metadata": {},
   "outputs": [],
   "source": []
  },
  {
   "cell_type": "code",
   "execution_count": null,
   "metadata": {},
   "outputs": [],
   "source": []
  },
  {
   "cell_type": "code",
   "execution_count": null,
   "metadata": {},
   "outputs": [],
   "source": []
  },
  {
   "cell_type": "code",
   "execution_count": null,
   "metadata": {},
   "outputs": [],
   "source": []
  },
  {
   "cell_type": "code",
   "execution_count": null,
   "metadata": {},
   "outputs": [],
   "source": []
  }
 ],
 "metadata": {
  "kernelspec": {
   "display_name": "venv",
   "language": "python",
   "name": "python3"
  },
  "language_info": {
   "codemirror_mode": {
    "name": "ipython",
    "version": 3
   },
   "file_extension": ".py",
   "mimetype": "text/x-python",
   "name": "python",
   "nbconvert_exporter": "python",
   "pygments_lexer": "ipython3",
   "version": "3.10.10"
  }
 },
 "nbformat": 4,
 "nbformat_minor": 2
}
